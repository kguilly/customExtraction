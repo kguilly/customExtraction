{
 "cells": [
  {
   "cell_type": "code",
   "execution_count": 68,
   "metadata": {
    "collapsed": true
   },
   "outputs": [],
   "source": [
    "import sys\n",
    "from herbie import Herbie\n",
    "from datetime import datetime, timedelta\n",
    "import pygrib\n",
    "import numpy as np\n",
    "import pandas as pd\n",
    "import os"
   ]
  },
  {
   "cell_type": "code",
   "execution_count": 23,
   "outputs": [],
   "source": [
    "parameters = np.linspace(1, 150, num=150, dtype=int)\n",
    "date = \"20230201\"\n",
    "dt = date + \" 10:00\"\n",
    "save_dir = '/home/kaleb/data/'\n",
    "pred_hours = 1\n"
   ],
   "metadata": {
    "collapsed": false
   }
  },
  {
   "cell_type": "code",
   "execution_count": 24,
   "outputs": [
    {
     "name": "stdout",
     "output_type": "stream",
     "text": [
      "✅ Found ┊ model=hrrr ┊ \u001B[3mproduct=nat\u001B[0m ┊ \u001B[38;2;41;130;13m2023-Feb-01 10:00 UTC\u001B[92m F01\u001B[0m ┊ \u001B[38;2;255;153;0m\u001B[3mGRIB2 @ aws\u001B[0m ┊ \u001B[38;2;255;153;0m\u001B[3mIDX @ aws\u001B[0m\n"
     ]
    }
   ],
   "source": [
    "H2 = Herbie(\n",
    "    dt,\n",
    "    model=\"hrrr\",\n",
    "    product=\"nat\",\n",
    "    save_dir=save_dir,\n",
    "    fxx=pred_hours,\n",
    "    verbose=True,\n",
    "    overwrite=False\n",
    ").download(\":APCP:surface:\")"
   ],
   "metadata": {
    "collapsed": false
   }
  },
  {
   "cell_type": "code",
   "execution_count": 39,
   "outputs": [
    {
     "name": "stdout",
     "output_type": "stream",
     "text": [
      "1:Total Precipitation:kg m**-2 (accum):lambert:surface:level 0:fcst time 0-1 hrs (accum):from 202302011000\n",
      "21.138123000000004 52.61565330680793 -134.09547973426314 -60.91719277183784\n",
      "(1059, 1799) 0.0 30.742\n"
     ]
    }
   ],
   "source": [
    "grib_path = '/home/kaleb/data/hrrr/20230201/subset_85e4fa12__hrrr.t10z.wrfnatf01.grib2'\n",
    "grib = pygrib.open(grib_path)\n",
    "for g in grib:\n",
    "    print(g)\n",
    "    lats, lons = g.latlons()\n",
    "    values = g.values\n",
    "    print(lats.min(), lats.max(), lons.min(), lons.max())\n",
    "    print(values.shape, values.min(), values.max())"
   ],
   "metadata": {
    "collapsed": false
   }
  },
  {
   "cell_type": "code",
   "execution_count": 42,
   "outputs": [
    {
     "name": "stdout",
     "output_type": "stream",
     "text": [
      "Layer: 1 Name: Total Precipitation  Units: kg m**-2  Level: 0 (surface)\n",
      "227   1076\n",
      "\n",
      "0.001\n",
      "Not that many messages\n"
     ]
    }
   ],
   "source": [
    "for p in parameters:\n",
    "    try:\n",
    "        grib_msgs = grib[int(p)]\n",
    "    except OSError:\n",
    "        print(\"Not that many messages\")\n",
    "        break\n",
    "    print(\"Layer: %s Name: %s  Units: %s  Level: %s (%s)\" % (\n",
    "    p, grib_msgs.name, grib_msgs.units, grib_msgs.level, grib_msgs.typeOfLevel))\n",
    "    lat_st_mid = 30.2241\n",
    "    lon_st_mid = -92.0198\n",
    "    data = grib_msgs.values\n",
    "    lt, ln = grib_msgs.latlons()\n",
    "    st_lt_m = np.full_like(lt, lat_st_mid)\n",
    "    st_ln_m = np.full_like(ln, lon_st_mid)\n",
    "    dis_mat = (lt - st_lt_m) ** 2 + (ln - st_ln_m) ** 2\n",
    "    p_lt, p_ln = np.unravel_index(dis_mat.argmin(), dis_mat.shape)\n",
    "    value = data[p_lt, p_ln]\n",
    "    print(p_lt, \" \", p_ln)\n",
    "    print()\n",
    "    print(value)"
   ],
   "metadata": {
    "collapsed": false
   }
  },
  {
   "cell_type": "code",
   "execution_count": 65,
   "outputs": [],
   "source": [
    "# df = {\n",
    "#     \"car\" : [1, 2, 3],\n",
    "#     \"boat\": [4, 5, 6],\n",
    "# }\n",
    "df = pd.DataFrame({\n",
    "    \"car\" : [1, 2, 3],\n",
    "    \"boat\": [4, 5, 6],\n",
    "    \"george\": [10,11,12]\n",
    "})"
   ],
   "metadata": {
    "collapsed": false
   }
  },
  {
   "cell_type": "code",
   "execution_count": 66,
   "outputs": [
    {
     "name": "stdout",
     "output_type": "stream",
     "text": [
      "   car  boat  george\n",
      "0    1     4      10\n",
      "1    2     5      11\n",
      "2    3     6      12\n",
      "3    7     8       9\n"
     ]
    }
   ],
   "source": [
    "# df = pd.concat([df, pd.Series([7,8,9])], ignore_index=True, axis=0, join='outer')\n",
    "df.loc[len(df.index)] = [7,8,9]\n",
    "print(df)"
   ],
   "metadata": {
    "collapsed": false
   }
  },
  {
   "cell_type": "code",
   "execution_count": 67,
   "outputs": [
    {
     "name": "stdout",
     "output_type": "stream",
     "text": [
      "/home/kaleb/Desktop/WRFextract_2-3/Daily_Monthly/\n"
     ]
    }
   ],
   "source": [
    "dir = \"/home/kaleb/Desktop/WRFextract_2-3/Hourly/\"\n",
    "filepathsep = dir.split('/')\n",
    "hourly_file_path = ''\n",
    "for i in range(len(filepathsep) - 1):\n",
    "    if filepathsep[i].rfind(\"Hourly\") != -1:\n",
    "        break\n",
    "    hourly_file_path += filepathsep[i] + '/'\n",
    "hourly_file_path += \"Daily_Monthly/\"\n",
    "print(hourly_file_path)"
   ],
   "metadata": {
    "collapsed": false
   }
  },
  {
   "cell_type": "code",
   "execution_count": 95,
   "outputs": [
    {
     "name": "stdout",
     "output_type": "stream",
     "text": [
      "Empty DataFrame\n",
      "Columns: [17_2023_01, 17_2023_02, 19_2023_01, 19_2023_02, 22_2023_01, 22_2023_02, 28_2023_01]\n",
      "Index: []\n"
     ]
    }
   ],
   "source": [
    "df_states = pd.DataFrame()\n",
    "for fips_folder in sorted(os.listdir(hourly_file_path)):\n",
    "    fips_dir = hourly_file_path + fips_folder + '/'\n",
    "    # print(fips_dir)\n",
    "    for monthly_file in sorted(os.listdir(fips_dir)):\n",
    "        # print(monthly_file)\n",
    "        full_path = fips_dir + monthly_file\n",
    "        state_fips = monthly_file[5:7]\n",
    "        state_abbrev = monthly_file[11:13]\n",
    "        year = monthly_file[14:18]\n",
    "        month = monthly_file[18:20]\n",
    "        col_name = state_fips + '_' + year + '_' + month\n",
    "        if not col_name in df_states:\n",
    "            df_states[col_name] = []\n",
    "        # try:\n",
    "        #     df_states[col_name].loc[0] = full_path\n",
    "        # except:\n",
    "        #     df_states.index = df_states.index + 1\n",
    "        #     df_states[col_name].loc[0] = full_path\n",
    "        # prints empty df\n",
    "        # df_states = df_states.append({col_name:full_path}, ignore_index=True)\n",
    "        # df_states = df.merge()\n",
    "print(df_states)\n"
   ],
   "metadata": {
    "collapsed": false
   }
  },
  {
   "cell_type": "code",
   "execution_count": null,
   "outputs": [],
   "source": [],
   "metadata": {
    "collapsed": false,
    "pycharm": {
     "is_executing": true
    }
   }
  },
  {
   "cell_type": "code",
   "execution_count": 87,
   "outputs": [],
   "source": [],
   "metadata": {
    "collapsed": false
   }
  }
 ],
 "metadata": {
  "kernelspec": {
   "display_name": "Python 3",
   "language": "python",
   "name": "python3"
  },
  "language_info": {
   "codemirror_mode": {
    "name": "ipython",
    "version": 2
   },
   "file_extension": ".py",
   "mimetype": "text/x-python",
   "name": "python",
   "nbconvert_exporter": "python",
   "pygments_lexer": "ipython2",
   "version": "2.7.6"
  }
 },
 "nbformat": 4,
 "nbformat_minor": 0
}
