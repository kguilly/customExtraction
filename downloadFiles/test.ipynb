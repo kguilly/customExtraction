{
 "cells": [
  {
   "cell_type": "code",
   "execution_count": 55,
   "metadata": {
    "collapsed": true
   },
   "outputs": [],
   "source": [
    "import pandas as pd\n",
    "from herbie import Herbie\n",
    "from datetime import datetime\n",
    "import numpy as np\n",
    "import pygrib as pg\n",
    "import xarray as xr"
   ]
  },
  {
   "cell_type": "code",
   "execution_count": 56,
   "outputs": [],
   "source": [
    "date = \"20190101\"\n",
    "date_hour = date + \" 00:00\"\n",
    "save_dir = '/home/kaleb/data/'\n",
    "\n",
    "pred_hours = 0"
   ],
   "metadata": {
    "collapsed": false
   }
  },
  {
   "cell_type": "code",
   "execution_count": 57,
   "outputs": [
    {
     "name": "stdout",
     "output_type": "stream",
     "text": [
      "✅ Found ┊ model=hrrr ┊ \u001B[3mproduct=sfc\u001B[0m ┊ \u001B[38;2;41;130;13m2019-Jan-01 00:00 UTC\u001B[92m F00\u001B[0m ┊ \u001B[38;2;255;153;0m\u001B[3mGRIB2 @ aws\u001B[0m ┊ \u001B[38;2;255;153;0m\u001B[3mIDX @ aws\u001B[0m\n",
      "self.DESCRIPTION=High-Resolution Rapid Refresh - CONUS\n",
      "self.DETAILS={'NOMADS product description': 'https://www.nco.ncep.noaa.gov/pmb/products/hrrr/', 'University of Utah HRRR archive': 'http://hrrr.chpc.utah.edu/'}\n",
      "self.EXPECT_IDX_FILE=remote\n",
      "self.IDX_STYLE=wgrib2\n",
      "self.LOCALFILE=hrrr.t00z.wrfsfcf00.grib2\n",
      "self.PRODUCTS={'sfc': '2D surface level fields; 3-km resolution', 'prs': '3D pressure level fields; 3-km resolution', 'nat': 'Native level fields; 3-km resolution', 'subh': 'Subhourly grids; 3-km resolution'}\n",
      "self.SOURCES={'pando': 'https://pando-rgw01.chpc.utah.edu/hrrr/sfc/20190101/hrrr.t00z.wrfsfcf00.grib2', 'pando2': 'https://pando-rgw02.chpc.utah.edu/hrrr/sfc/20190101/hrrr.t00z.wrfsfcf00.grib2', 'aws': 'https://noaa-hrrr-bdp-pds.s3.amazonaws.com/hrrr.20190101/conus/hrrr.t00z.wrfsfcf00.grib2'}\n",
      "self.fxx=0\n",
      "self.get_localFileName=hrrr.t00z.wrfsfcf00.grib2\n",
      "self.get_remoteFileName=hrrr.t00z.wrfsfcf00.grib2\n",
      "self.grib=https://noaa-hrrr-bdp-pds.s3.amazonaws.com/hrrr.20190101/conus/hrrr.t00z.wrfsfcf00.grib2\n",
      "self.grib_source=aws\n",
      "self.idx=https://noaa-hrrr-bdp-pds.s3.amazonaws.com/hrrr.20190101/conus/hrrr.t00z.wrfsfcf00.grib2.idx\n",
      "self.idx_source=aws\n",
      "self.model=hrrr\n",
      "self.overwrite=True\n",
      "self.product=sfc\n",
      "self.product_description=2D surface level fields; 3-km resolution\n",
      "self.searchString_help=\n",
      "Use regular expression to search for lines in the index file.\n",
      "Here are some examples you can use for the wgrib2-style `searchString`\n",
      "\n",
      "    ============================= ===============================================\n",
      "    ``searchString=``             Messages that will be downloaded\n",
      "    ============================= ===============================================\n",
      "    \":TMP:2 m\"                    Temperature at 2 m.\n",
      "    \":TMP:\"                       Temperature fields at all levels.\n",
      "    \":UGRD:.* mb\"                 U Wind at all pressure levels.\n",
      "    \":500 mb:\"                    All variables on the 500 mb level.\n",
      "    \":APCP:\"                      All accumulated precipitation fields.\n",
      "    \":APCP:surface:0-[1-9]*\"      Accumulated precip since initialization time\n",
      "    \":APCP:surface:[1-9]*-[1-9]*\" Accumulated precip over last hour\n",
      "    \":UGRD:10 m\"                  U wind component at 10 meters.\n",
      "    \":(U|V)GRD:(10|80) m\"         U and V wind component at 10 and 80 m.\n",
      "    \":(U|V)GRD:\"                  U and V wind component at all levels.\n",
      "    \":(?:U|V)GRD:[0-9]+ hybrid\"   U and V wind components at all hybrid levels\n",
      "    \":(?:U|V)GRD:[0-9]+ mb\"        U and V wind components at all pressure levels\n",
      "    \":.GRD:\"                      (Same as above)\n",
      "    \":(TMP|DPT):\"                 Temperature and Dew Point for all levels .\n",
      "    \":(TMP|DPT|RH):\"              TMP, DPT, and Relative Humidity for all levels.\n",
      "    \":REFC:\"                      Composite Reflectivity\n",
      "    \":surface:\"                   All variables at the surface.\n",
      "    ============================= ===============================================\n",
      "\n",
      "If you need help with regular expression, search the web or look at\n",
      "this cheatsheet: https://www.petefreitag.com/cheatsheets/regex/.\n",
      "\n",
      "self.verbose=True\n",
      "None\n"
     ]
    }
   ],
   "source": [
    "herb_obj = Herbie(date_hour, model=\"hrrr\",\n",
    "                  product=\"sfc\", save_dir=save_dir,\n",
    "                  verbose=True,\n",
    "                  priority=['pando', 'pando2', 'aws', 'nomads'],\n",
    "                  overwrite=True)\n",
    "    # .xarray(\":APCP:.*:(?:0-1|[1-9]\\d*-\\d+) hour\").herbie.nearest_points(points=[(-91.0198, 30.2241)])\n",
    "# herb_obj.tell_me_everything()\n",
    "print(herb_obj.tell_me_everything())"
   ],
   "metadata": {
    "collapsed": false
   }
  },
  {
   "cell_type": "code",
   "execution_count": 58,
   "outputs": [
    {
     "name": "stdout",
     "output_type": "stream",
     "text": [
      "[[0. 0. 0. ... 0. 0. 0.]\n",
      " [0. 0. 0. ... 0. 0. 0.]\n",
      " [0. 0. 0. ... 0. 0. 0.]\n",
      " ...\n",
      " [0. 0. 0. ... 0. 0. 0.]\n",
      " [0. 0. 0. ... 0. 0. 0.]\n",
      " [0. 0. 0. ... 0. 0. 0.]]\n"
     ]
    }
   ],
   "source": [
    "herb_arr = herb_obj.xarray(\":APCP:surface:\")\n",
    "print(herb_arr.tp.values)"
   ],
   "metadata": {
    "collapsed": false
   }
  },
  {
   "cell_type": "code",
   "execution_count": 59,
   "outputs": [
    {
     "data": {
      "text/plain": "'\\nUse regular expression to search for lines in the index file.\\nHere are some examples you can use for the wgrib2-style `searchString`\\n\\n    ============================= ===============================================\\n    ``searchString=``             Messages that will be downloaded\\n    ============================= ===============================================\\n    \":TMP:2 m\"                    Temperature at 2 m.\\n    \":TMP:\"                       Temperature fields at all levels.\\n    \":UGRD:.* mb\"                 U Wind at all pressure levels.\\n    \":500 mb:\"                    All variables on the 500 mb level.\\n    \":APCP:\"                      All accumulated precipitation fields.\\n    \":APCP:surface:0-[1-9]*\"      Accumulated precip since initialization time\\n    \":APCP:surface:[1-9]*-[1-9]*\" Accumulated precip over last hour\\n    \":UGRD:10 m\"                  U wind component at 10 meters.\\n    \":(U|V)GRD:(10|80) m\"         U and V wind component at 10 and 80 m.\\n    \":(U|V)GRD:\"                  U and V wind component at all levels.\\n    \":(?:U|V)GRD:[0-9]+ hybrid\"   U and V wind components at all hybrid levels\\n    \":(?:U|V)GRD:[0-9]+ mb\"        U and V wind components at all pressure levels\\n    \":.GRD:\"                      (Same as above)\\n    \":(TMP|DPT):\"                 Temperature and Dew Point for all levels .\\n    \":(TMP|DPT|RH):\"              TMP, DPT, and Relative Humidity for all levels.\\n    \":REFC:\"                      Composite Reflectivity\\n    \":surface:\"                   All variables at the surface.\\n    ============================= ===============================================\\n\\nIf you need help with regular expression, search the web or look at\\nthis cheatsheet: https://www.petefreitag.com/cheatsheets/regex/.\\n'"
     },
     "execution_count": 59,
     "metadata": {},
     "output_type": "execute_result"
    }
   ],
   "source": [
    "herb_obj.searchString_help"
   ],
   "metadata": {
    "collapsed": false
   }
  },
  {
   "cell_type": "code",
   "execution_count": 60,
   "outputs": [
    {
     "name": "stderr",
     "output_type": "stream",
     "text": [
      "/home/kaleb/miniconda3/envs/postproc/lib/python3.9/site-packages/metpy/xarray.py:382: UserWarning: More than one time coordinate present for variable \"gribfile_projection\".\n",
      "  warnings.warn('More than one ' + axis + ' coordinate present for variable'\n",
      "/home/kaleb/miniconda3/envs/postproc/lib/python3.9/site-packages/metpy/xarray.py:382: UserWarning: More than one time coordinate present for variable \"tp\".\n",
      "  warnings.warn('More than one ' + axis + ' coordinate present for variable'\n",
      "/home/kaleb/miniconda3/envs/postproc/lib/python3.9/site-packages/metpy/xarray.py:382: UserWarning: More than one time coordinate present for variable \"gribfile_projection\".\n",
      "  warnings.warn('More than one ' + axis + ' coordinate present for variable'\n"
     ]
    },
    {
     "name": "stdout",
     "output_type": "stream",
     "text": [
      "<xarray.Dataset>\n",
      "Dimensions:              (point: 2)\n",
      "Coordinates:\n",
      "    time                 datetime64[ns] 2019-01-01\n",
      "    step                 timedelta64[ns] 00:00:00\n",
      "    surface              float64 0.0\n",
      "    latitude             (point) float64 40.01 41.01\n",
      "    longitude            (point) float64 260.0 259.0\n",
      "    valid_time           datetime64[ns] 2019-01-01\n",
      "    metpy_crs            object Projection: lambert_conformal_conic\n",
      "    y                    (point) float64 1.707e+05 2.847e+05\n",
      "    x                    (point) float64 -2.135e+05 -2.945e+05\n",
      "  * point                (point) <U6 'pointa' 'pointb'\n",
      "Data variables:\n",
      "    tp                   (point) float32 0.0 0.0\n",
      "    gribfile_projection  (point) object None None\n",
      "Attributes:\n",
      "    GRIB_edition:            2\n",
      "    GRIB_centre:             kwbc\n",
      "    GRIB_centreDescription:  US National Weather Service - NCEP\n",
      "    GRIB_subCentre:          0\n",
      "    Conventions:             CF-1.7\n",
      "    institution:             US National Weather Service - NCEP\n",
      "    model:                   hrrr\n",
      "    product:                 sfc\n",
      "    description:             High-Resolution Rapid Refresh - CONUS\n",
      "    remote_grib:             https://noaa-hrrr-bdp-pds.s3.amazonaws.com/hrrr....\n",
      "    local_grib:              /home/kaleb/data/hrrr/20190101/subset_97ef9bbc__...\n",
      "    searchString:            :APCP:surface:\n"
     ]
    }
   ],
   "source": [
    "close_points = herb_arr.herbie.nearest_points([(-100, 40), (-101, 41)], names=['pointa', 'pointb'])\n",
    "print(close_points)"
   ],
   "metadata": {
    "collapsed": false
   }
  },
  {
   "cell_type": "code",
   "execution_count": 61,
   "outputs": [
    {
     "ename": "AttributeError",
     "evalue": "'Dataset' object has no attribute 't2m'",
     "output_type": "error",
     "traceback": [
      "\u001B[0;31m---------------------------------------------------------------------------\u001B[0m",
      "\u001B[0;31mAttributeError\u001B[0m                            Traceback (most recent call last)",
      "Cell \u001B[0;32mIn[61], line 1\u001B[0m\n\u001B[0;32m----> 1\u001B[0m \u001B[38;5;28mprint\u001B[39m(\u001B[43mclose_points\u001B[49m\u001B[38;5;241;43m.\u001B[39;49m\u001B[43mt2m\u001B[49m\u001B[38;5;241m.\u001B[39mvalues)\n",
      "File \u001B[0;32m~/miniconda3/envs/postproc/lib/python3.9/site-packages/xarray/core/common.py:278\u001B[0m, in \u001B[0;36mAttrAccessMixin.__getattr__\u001B[0;34m(self, name)\u001B[0m\n\u001B[1;32m    276\u001B[0m         \u001B[38;5;28;01mwith\u001B[39;00m suppress(\u001B[38;5;167;01mKeyError\u001B[39;00m):\n\u001B[1;32m    277\u001B[0m             \u001B[38;5;28;01mreturn\u001B[39;00m source[name]\n\u001B[0;32m--> 278\u001B[0m \u001B[38;5;28;01mraise\u001B[39;00m \u001B[38;5;167;01mAttributeError\u001B[39;00m(\n\u001B[1;32m    279\u001B[0m     \u001B[38;5;124mf\u001B[39m\u001B[38;5;124m\"\u001B[39m\u001B[38;5;132;01m{\u001B[39;00m\u001B[38;5;28mtype\u001B[39m(\u001B[38;5;28mself\u001B[39m)\u001B[38;5;241m.\u001B[39m\u001B[38;5;18m__name__\u001B[39m\u001B[38;5;132;01m!r}\u001B[39;00m\u001B[38;5;124m object has no attribute \u001B[39m\u001B[38;5;132;01m{\u001B[39;00mname\u001B[38;5;132;01m!r}\u001B[39;00m\u001B[38;5;124m\"\u001B[39m\n\u001B[1;32m    280\u001B[0m )\n",
      "\u001B[0;31mAttributeError\u001B[0m: 'Dataset' object has no attribute 't2m'"
     ]
    }
   ],
   "source": [
    "print(close_points.t2m.values)"
   ],
   "metadata": {
    "collapsed": false
   }
  },
  {
   "cell_type": "code",
   "execution_count": null,
   "outputs": [],
   "source": [
    "print(close_points.point.values)\n",
    "print(close_points.point.values[0], close_points.t2m.values[0])"
   ],
   "metadata": {
    "collapsed": false
   }
  },
  {
   "cell_type": "code",
   "execution_count": null,
   "outputs": [],
   "source": [
    "herb_arr = herb_obj.xarray(\":(U|V)GRD:1000 mb:\")\n",
    "print(herb_arr)"
   ],
   "metadata": {
    "collapsed": false
   }
  },
  {
   "cell_type": "code",
   "execution_count": null,
   "outputs": [],
   "source": [],
   "metadata": {
    "collapsed": false
   }
  },
  {
   "cell_type": "code",
   "execution_count": null,
   "outputs": [],
   "source": [
    "print(herb_obj.xarray(\":DSWRF:surface:anl\").nearest_points([-100, 40]).values)\n",
    "# print(rad)\n"
   ],
   "metadata": {
    "collapsed": false
   }
  },
  {
   "cell_type": "code",
   "execution_count": 62,
   "outputs": [],
   "source": [
    "# df = rad.to_dataframe()"
   ],
   "metadata": {
    "collapsed": false
   }
  },
  {
   "cell_type": "code",
   "execution_count": 63,
   "outputs": [
    {
     "name": "stdout",
     "output_type": "stream",
     "text": [
      "✅ Found ┊ model=hrrr ┊ \u001B[3mproduct=sfc\u001B[0m ┊ \u001B[38;2;41;130;13m2019-Jan-01 10:00 UTC\u001B[92m F00\u001B[0m ┊ \u001B[38;2;255;153;0m\u001B[3mGRIB2 @ aws\u001B[0m ┊ \u001B[38;2;255;153;0m\u001B[3mIDX @ aws\u001B[0m\n"
     ]
    }
   ],
   "source": [
    "dt = \"20190101 10:00\"\n",
    "dtobj = datetime.strptime(dt, \"%Y%m%d %H:%M\")\n",
    "herb_obj = Herbie(dtobj, model=\"hrrr\",\n",
    "                  product=\"sfc\", save_dir=save_dir,\n",
    "                  verbose=True,\n",
    "                  priority=['pando', 'pando2', 'aws', 'nomads'],\n",
    "                  overwrite=True)"
   ],
   "metadata": {
    "collapsed": false
   }
  },
  {
   "cell_type": "code",
   "execution_count": 64,
   "outputs": [
    {
     "name": "stderr",
     "output_type": "stream",
     "text": [
      "/home/kaleb/miniconda3/envs/postproc/lib/python3.9/site-packages/metpy/xarray.py:382: UserWarning: More than one time coordinate present for variable \"gribfile_projection\".\n",
      "  warnings.warn('More than one ' + axis + ' coordinate present for variable'\n",
      "/home/kaleb/miniconda3/envs/postproc/lib/python3.9/site-packages/metpy/xarray.py:382: UserWarning: More than one time coordinate present for variable \"dswrf\".\n",
      "  warnings.warn('More than one ' + axis + ' coordinate present for variable'\n",
      "/home/kaleb/miniconda3/envs/postproc/lib/python3.9/site-packages/metpy/xarray.py:382: UserWarning: More than one time coordinate present for variable \"gribfile_projection\".\n",
      "  warnings.warn('More than one ' + axis + ' coordinate present for variable'\n"
     ]
    }
   ],
   "source": [
    "# print(herb_obj.xarray(\":DSWRF:surface:anl\").herbie.nearest_points([(-91.46, 32.145)]).values)\n",
    "arr = herb_obj.xarray(\":DSWRF:surface:anl\").herbie.nearest_points([(-91.46, 32.145)])"
   ],
   "metadata": {
    "collapsed": false
   }
  },
  {
   "cell_type": "code",
   "execution_count": 65,
   "outputs": [
    {
     "name": "stdout",
     "output_type": "stream",
     "text": [
      "[0.]\n"
     ]
    }
   ],
   "source": [
    "print(arr.dswrf.values)"
   ],
   "metadata": {
    "collapsed": false
   }
  },
  {
   "cell_type": "code",
   "execution_count": 66,
   "outputs": [
    {
     "name": "stdout",
     "output_type": "stream",
     "text": [
      "<xarray.Dataset>\n",
      "Dimensions:              (point: 2)\n",
      "Coordinates:\n",
      "    time                 datetime64[ns] 2019-01-01T10:00:00\n",
      "    step                 timedelta64[ns] 00:00:00\n",
      "    surface              float64 0.0\n",
      "    latitude             (point) float64 42.0 41.01\n",
      "    longitude            (point) float64 260.0 259.0\n",
      "    valid_time           datetime64[ns] 2019-01-01T10:00:00\n",
      "    metpy_crs            object Projection: lambert_conformal_conic\n",
      "    y                    (point) float64 3.927e+05 2.847e+05\n",
      "    x                    (point) float64 -2.075e+05 -2.945e+05\n",
      "  * point                (point) <U2 'p1' 'p2'\n",
      "Data variables:\n",
      "    dswrf                (point) float32 0.0 0.0\n",
      "    gribfile_projection  (point) object None None\n",
      "Attributes:\n",
      "    GRIB_edition:            2\n",
      "    GRIB_centre:             kwbc\n",
      "    GRIB_centreDescription:  US National Weather Service - NCEP\n",
      "    GRIB_subCentre:          0\n",
      "    Conventions:             CF-1.7\n",
      "    institution:             US National Weather Service - NCEP\n",
      "    model:                   hrrr\n",
      "    product:                 sfc\n",
      "    description:             High-Resolution Rapid Refresh - CONUS\n",
      "    remote_grib:             https://noaa-hrrr-bdp-pds.s3.amazonaws.com/hrrr....\n",
      "    local_grib:              /home/kaleb/data/hrrr/20190101/subset_7def17d3__...\n",
      "    searchString:            :DSWRF:surface:anl\n"
     ]
    },
    {
     "name": "stderr",
     "output_type": "stream",
     "text": [
      "/home/kaleb/miniconda3/envs/postproc/lib/python3.9/site-packages/metpy/xarray.py:382: UserWarning: More than one time coordinate present for variable \"gribfile_projection\".\n",
      "  warnings.warn('More than one ' + axis + ' coordinate present for variable'\n",
      "/home/kaleb/miniconda3/envs/postproc/lib/python3.9/site-packages/metpy/xarray.py:382: UserWarning: More than one time coordinate present for variable \"dswrf\".\n",
      "  warnings.warn('More than one ' + axis + ' coordinate present for variable'\n",
      "/home/kaleb/miniconda3/envs/postproc/lib/python3.9/site-packages/metpy/xarray.py:382: UserWarning: More than one time coordinate present for variable \"gribfile_projection\".\n",
      "  warnings.warn('More than one ' + axis + ' coordinate present for variable'\n"
     ]
    }
   ],
   "source": [
    "name_arr = ['p1', 'p2']\n",
    "values_arr = [(-100, 42), (-101, 41)]\n",
    "arr = herb_obj.xarray(\":DSWRF:surface:anl\").herbie.nearest_points(points=values_arr, names=name_arr)\n",
    "print(arr)"
   ],
   "metadata": {
    "collapsed": false
   }
  },
  {
   "cell_type": "code",
   "execution_count": 68,
   "outputs": [
    {
     "name": "stdout",
     "output_type": "stream",
     "text": [
      "<xarray.Dataset>\n",
      "Dimensions:              (point: 2)\n",
      "Coordinates:\n",
      "    time                 datetime64[ns] 2019-01-01T10:00:00\n",
      "    step                 timedelta64[ns] 00:00:00\n",
      "    surface              float64 0.0\n",
      "    latitude             (point) float64 42.0 41.01\n",
      "    longitude            (point) float64 260.0 259.0\n",
      "    valid_time           datetime64[ns] 2019-01-01T10:00:00\n",
      "    metpy_crs            object Projection: lambert_conformal_conic\n",
      "    y                    (point) float64 3.927e+05 2.847e+05\n",
      "    x                    (point) float64 -2.075e+05 -2.945e+05\n",
      "  * point                (point) <U2 'p1' 'p2'\n",
      "Data variables:\n",
      "    gust                 (point) float32 12.05 12.42\n",
      "    gribfile_projection  (point) object None None\n",
      "Attributes:\n",
      "    GRIB_edition:            2\n",
      "    GRIB_centre:             kwbc\n",
      "    GRIB_centreDescription:  US National Weather Service - NCEP\n",
      "    GRIB_subCentre:          0\n",
      "    Conventions:             CF-1.7\n",
      "    institution:             US National Weather Service - NCEP\n",
      "    model:                   hrrr\n",
      "    product:                 sfc\n",
      "    description:             High-Resolution Rapid Refresh - CONUS\n",
      "    remote_grib:             https://noaa-hrrr-bdp-pds.s3.amazonaws.com/hrrr....\n",
      "    local_grib:              /home/kaleb/data/hrrr/20190101/subset_7defb0ae__...\n",
      "    searchString:            :GUST:\n"
     ]
    },
    {
     "name": "stderr",
     "output_type": "stream",
     "text": [
      "/home/kaleb/miniconda3/envs/postproc/lib/python3.9/site-packages/metpy/xarray.py:382: UserWarning: More than one time coordinate present for variable \"gribfile_projection\".\n",
      "  warnings.warn('More than one ' + axis + ' coordinate present for variable'\n",
      "/home/kaleb/miniconda3/envs/postproc/lib/python3.9/site-packages/metpy/xarray.py:382: UserWarning: More than one time coordinate present for variable \"gust\".\n",
      "  warnings.warn('More than one ' + axis + ' coordinate present for variable'\n",
      "/home/kaleb/miniconda3/envs/postproc/lib/python3.9/site-packages/metpy/xarray.py:382: UserWarning: More than one time coordinate present for variable \"gribfile_projection\".\n",
      "  warnings.warn('More than one ' + axis + ' coordinate present for variable'\n"
     ]
    }
   ],
   "source": [
    "gust_arr = herb_obj.xarray(\":GUST:\").herbie.nearest_points(points=values_arr, names=name_arr)\n",
    "print(gust_arr)"
   ],
   "metadata": {
    "collapsed": false
   }
  },
  {
   "cell_type": "code",
   "execution_count": 69,
   "outputs": [
    {
     "data": {
      "text/plain": "array([12.0498495, 12.4248495], dtype=float32)"
     },
     "execution_count": 69,
     "metadata": {},
     "output_type": "execute_result"
    }
   ],
   "source": [
    "gust_arr.gust.values"
   ],
   "metadata": {
    "collapsed": false
   }
  },
  {
   "cell_type": "code",
   "execution_count": 20,
   "outputs": [
    {
     "name": "stdout",
     "output_type": "stream",
     "text": [
      "{'apples': {'boy': ['girl', 'wumbo']}, 'oranges': {'he': 'she'}}\n"
     ]
    }
   ],
   "source": [
    "dict = {'apples' : {'boy' : ['girl', 'wumbo']}, 'oranges' : {'he' : 'she'}}\n",
    "print(dict)"
   ],
   "metadata": {
    "collapsed": false
   }
  },
  {
   "cell_type": "code",
   "execution_count": 21,
   "outputs": [
    {
     "name": "stdout",
     "output_type": "stream",
     "text": [
      "{'boy': ['girl', 'wumbo']}\n"
     ]
    }
   ],
   "source": [
    "print(dict['apples'])"
   ],
   "metadata": {
    "collapsed": false
   }
  },
  {
   "cell_type": "code",
   "execution_count": 22,
   "outputs": [
    {
     "name": "stdout",
     "output_type": "stream",
     "text": [
      "['girl', 'wumbo']\n"
     ]
    }
   ],
   "source": [
    "print(dict['apples']['boy'])"
   ],
   "metadata": {
    "collapsed": false
   }
  },
  {
   "cell_type": "code",
   "execution_count": 23,
   "outputs": [
    {
     "name": "stdout",
     "output_type": "stream",
     "text": [
      "['girl', 'wumbo', ['other', 'muhlady']]\n"
     ]
    }
   ],
   "source": [
    "dict['apples']['boy'].append(['other', 'muhlady'])\n",
    "print(dict['apples']['boy'])"
   ],
   "metadata": {
    "collapsed": false
   }
  },
  {
   "cell_type": "code",
   "execution_count": 25,
   "outputs": [
    {
     "name": "stdout",
     "output_type": "stream",
     "text": [
      "other\n"
     ]
    }
   ],
   "source": [
    "print(dict['apples']['boy'][2][0])\n"
   ],
   "metadata": {
    "collapsed": false
   }
  },
  {
   "cell_type": "code",
   "execution_count": 45,
   "outputs": [],
   "source": [
    "file_path = \"../myFiles/countyInfo/us-state-ansi-fips2.csv\"\n",
    "df = pd.read_csv(file_path)"
   ],
   "metadata": {
    "collapsed": false
   }
  },
  {
   "cell_type": "code",
   "execution_count": 54,
   "outputs": [
    {
     "name": "stdout",
     "output_type": "stream",
     "text": [
      "0\n"
     ]
    }
   ],
   "source": [
    "print(df.index[df['st']==1].tolist()[0])"
   ],
   "metadata": {
    "collapsed": false
   }
  },
  {
   "cell_type": "code",
   "execution_count": 43,
   "outputs": [
    {
     "name": "stdout",
     "output_type": "stream",
     "text": [
      "0      1edittttt\n",
      "1      2edittttt\n",
      "2      4edittttt\n",
      "3      5edittttt\n",
      "4      6edittttt\n",
      "5      8edittttt\n",
      "6      9edittttt\n",
      "7     10edittttt\n",
      "8     11edittttt\n",
      "9     12edittttt\n",
      "10    13edittttt\n",
      "11    15edittttt\n",
      "12    16edittttt\n",
      "13    17edittttt\n",
      "14    18edittttt\n",
      "15    19edittttt\n",
      "16    20edittttt\n",
      "17    21edittttt\n",
      "18    22edittttt\n",
      "19    23edittttt\n",
      "20    24edittttt\n",
      "21    25edittttt\n",
      "22    26edittttt\n",
      "23    27edittttt\n",
      "24    28edittttt\n",
      "25    29edittttt\n",
      "26    30edittttt\n",
      "27    31edittttt\n",
      "28    32edittttt\n",
      "29    33edittttt\n",
      "30    34edittttt\n",
      "31    35edittttt\n",
      "32    36edittttt\n",
      "33    37edittttt\n",
      "34    38edittttt\n",
      "35    39edittttt\n",
      "36    40edittttt\n",
      "37    41edittttt\n",
      "38    42edittttt\n",
      "39    44edittttt\n",
      "40    45edittttt\n",
      "41    46edittttt\n",
      "42    47edittttt\n",
      "43    48edittttt\n",
      "44    49edittttt\n",
      "45    50edittttt\n",
      "46    51edittttt\n",
      "47    53edittttt\n",
      "48    54edittttt\n",
      "49    55edittttt\n",
      "50    56edittttt\n",
      "Name: st, dtype: object\n"
     ]
    }
   ],
   "source": [
    "def func(val):\n",
    "    val = str(val)\n",
    "    val += 'edittttt'\n",
    "    return val\n",
    "df['st'] = df['st'].apply(func)\n",
    "print(df['st'])"
   ],
   "metadata": {
    "collapsed": false
   }
  },
  {
   "cell_type": "code",
   "execution_count": 70,
   "outputs": [],
   "source": [
    "f = open(\"testingggg.txt\", 'wt')"
   ],
   "metadata": {
    "collapsed": false
   }
  },
  {
   "cell_type": "code",
   "execution_count": 71,
   "outputs": [
    {
     "data": {
      "text/plain": "4"
     },
     "execution_count": 71,
     "metadata": {},
     "output_type": "execute_result"
    }
   ],
   "source": [
    "f.write(\"ball\")"
   ],
   "metadata": {
    "collapsed": false
   }
  },
  {
   "cell_type": "code",
   "execution_count": 72,
   "outputs": [
    {
     "data": {
      "text/plain": "12"
     },
     "execution_count": 72,
     "metadata": {},
     "output_type": "execute_result"
    }
   ],
   "source": [
    "f.write(', other ball')"
   ],
   "metadata": {
    "collapsed": false
   }
  },
  {
   "cell_type": "code",
   "execution_count": 73,
   "outputs": [],
   "source": [
    "f.close()"
   ],
   "metadata": {
    "collapsed": false
   }
  },
  {
   "cell_type": "code",
   "execution_count": 74,
   "outputs": [],
   "source": [
    "f = open(\"testingggg.txt\", 'a')\n",
    "f.write(\", other other ball\")\n",
    "f.close()"
   ],
   "metadata": {
    "collapsed": false
   }
  },
  {
   "cell_type": "code",
   "execution_count": 75,
   "outputs": [],
   "source": [
    "f = open(\"testingggg.txt\", 'a')\n",
    "f.write(\"\\n other other other ball\")\n",
    "f.close()"
   ],
   "metadata": {
    "collapsed": false
   }
  },
  {
   "cell_type": "code",
   "execution_count": 18,
   "outputs": [
    {
     "ename": "AttributeError",
     "evalue": "type object 'datetime.datetime' has no attribute 'datetime'",
     "output_type": "error",
     "traceback": [
      "\u001B[0;31m---------------------------------------------------------------------------\u001B[0m",
      "\u001B[0;31mAttributeError\u001B[0m                            Traceback (most recent call last)",
      "Cell \u001B[0;32mIn[18], line 2\u001B[0m\n\u001B[1;32m      1\u001B[0m \u001B[38;5;28;01mfrom\u001B[39;00m \u001B[38;5;21;01mdatetime\u001B[39;00m \u001B[38;5;28;01mimport\u001B[39;00m date, timedelta, datetime\n\u001B[0;32m----> 2\u001B[0m d1 \u001B[38;5;241m=\u001B[39m \u001B[43mdatetime\u001B[49m\u001B[38;5;241;43m.\u001B[39;49m\u001B[43mdatetime\u001B[49m\u001B[38;5;241m.\u001B[39mstrptime(\u001B[38;5;124m\"\u001B[39m\u001B[38;5;124m20190101 10:00\u001B[39m\u001B[38;5;124m\"\u001B[39m, \u001B[38;5;124m\"\u001B[39m\u001B[38;5;124m%\u001B[39m\u001B[38;5;124mY\u001B[39m\u001B[38;5;124m%\u001B[39m\u001B[38;5;124mm\u001B[39m\u001B[38;5;132;01m%d\u001B[39;00m\u001B[38;5;124m \u001B[39m\u001B[38;5;124m%\u001B[39m\u001B[38;5;124mH:\u001B[39m\u001B[38;5;124m%\u001B[39m\u001B[38;5;124mM\u001B[39m\u001B[38;5;124m\"\u001B[39m)\n\u001B[1;32m      3\u001B[0m d2 \u001B[38;5;241m=\u001B[39m datetime\u001B[38;5;241m.\u001B[39mstrptime(\u001B[38;5;124m\"\u001B[39m\u001B[38;5;124m20190101 12:00\u001B[39m\u001B[38;5;124m\"\u001B[39m, \u001B[38;5;124m\"\u001B[39m\u001B[38;5;124m%\u001B[39m\u001B[38;5;124mY\u001B[39m\u001B[38;5;124m%\u001B[39m\u001B[38;5;124mm\u001B[39m\u001B[38;5;132;01m%d\u001B[39;00m\u001B[38;5;124m \u001B[39m\u001B[38;5;124m%\u001B[39m\u001B[38;5;124mH:\u001B[39m\u001B[38;5;124m%\u001B[39m\u001B[38;5;124mM\u001B[39m\u001B[38;5;124m\"\u001B[39m)\n",
      "\u001B[0;31mAttributeError\u001B[0m: type object 'datetime.datetime' has no attribute 'datetime'"
     ]
    }
   ],
   "source": [
    "from datetime import date, timedelta, datetime\n",
    "d1 = datetime.datetime.strptime(\"20190101 10:00\", \"%Y%m%d %H:%M\")\n",
    "d2 = datetime.strptime(\"20190101 12:00\", \"%Y%m%d %H:%M\")"
   ],
   "metadata": {
    "collapsed": false
   }
  },
  {
   "cell_type": "code",
   "execution_count": 19,
   "outputs": [
    {
     "name": "stdout",
     "output_type": "stream",
     "text": [
      "01\n"
     ]
    }
   ],
   "source": [
    "print(d1.strftime(\"%m\"))"
   ],
   "metadata": {
    "collapsed": false
   }
  },
  {
   "cell_type": "code",
   "execution_count": 35,
   "outputs": [],
   "source": [
    "begin_hour = datetime.strptime(\"00:00\", \"%H:%M\")\n",
    "end_hour = datetime.strptime(\"23:00\", \"%H:%M\")\n",
    "begin_date = datetime.strptime(\"20230202\", \"%Y%m%d\")\n",
    "end_date = datetime.strptime(\"20230204\", \"%Y%m%d\")"
   ],
   "metadata": {
    "collapsed": false
   }
  },
  {
   "cell_type": "code",
   "execution_count": 36,
   "outputs": [
    {
     "name": "stdout",
     "output_type": "stream",
     "text": [
      "2 23\n"
     ]
    }
   ],
   "source": [
    "hourrange = (end_hour - begin_hour).seconds // (60*60)\n",
    "daterange = (end_date - begin_date).days\n",
    "print(daterange, hourrange)"
   ],
   "metadata": {
    "collapsed": false
   }
  },
  {
   "cell_type": "code",
   "execution_count": 38,
   "outputs": [
    {
     "name": "stdout",
     "output_type": "stream",
     "text": [
      "2023-02-02 00:00:00\n",
      "2023-02-02 01:00:00\n",
      "2023-02-02 02:00:00\n",
      "2023-02-02 03:00:00\n",
      "2023-02-02 04:00:00\n",
      "2023-02-02 05:00:00\n",
      "2023-02-02 06:00:00\n",
      "2023-02-02 07:00:00\n",
      "2023-02-02 08:00:00\n",
      "2023-02-02 09:00:00\n",
      "2023-02-02 10:00:00\n",
      "2023-02-02 11:00:00\n",
      "2023-02-02 12:00:00\n",
      "2023-02-02 13:00:00\n",
      "2023-02-02 14:00:00\n",
      "2023-02-02 15:00:00\n",
      "2023-02-02 16:00:00\n",
      "2023-02-02 17:00:00\n",
      "2023-02-02 18:00:00\n",
      "2023-02-02 19:00:00\n",
      "2023-02-02 20:00:00\n",
      "2023-02-02 21:00:00\n",
      "2023-02-02 22:00:00\n",
      "2023-02-03 00:00:00\n",
      "2023-02-03 01:00:00\n",
      "2023-02-03 02:00:00\n",
      "2023-02-03 03:00:00\n",
      "2023-02-03 04:00:00\n",
      "2023-02-03 05:00:00\n",
      "2023-02-03 06:00:00\n",
      "2023-02-03 07:00:00\n",
      "2023-02-03 08:00:00\n",
      "2023-02-03 09:00:00\n",
      "2023-02-03 10:00:00\n",
      "2023-02-03 11:00:00\n",
      "2023-02-03 12:00:00\n",
      "2023-02-03 13:00:00\n",
      "2023-02-03 14:00:00\n",
      "2023-02-03 15:00:00\n",
      "2023-02-03 16:00:00\n",
      "2023-02-03 17:00:00\n",
      "2023-02-03 18:00:00\n",
      "2023-02-03 19:00:00\n",
      "2023-02-03 20:00:00\n",
      "2023-02-03 21:00:00\n",
      "2023-02-03 22:00:00\n"
     ]
    }
   ],
   "source": [
    "for i in range(0, (daterange)):\n",
    "    for j in range(0, (hourrange)):\n",
    "        currday = begin_date + timedelta(days=i, hours=j)\n",
    "        print(currday)"
   ],
   "metadata": {
    "collapsed": false
   }
  },
  {
   "cell_type": "code",
   "execution_count": 53,
   "outputs": [
    {
     "name": "stdout",
     "output_type": "stream",
     "text": [
      "      Year  Month  Day Daily/Monthly State      County  FIPS Code  Grid Index  \\\n",
      "0     2023      1   31         Daily    LA  LAFAYETTE       22055           0   \n",
      "1     2023      1   31         Daily    LA  LAFAYETTE       22055           1   \n",
      "2     2023      1   31         Daily    LA  LAFAYETTE       22055           2   \n",
      "3     2023      1   31         Daily    LA  LAFAYETTE       22055           3   \n",
      "4     2023      1   31         Daily    LA  LAFAYETTE       22055           4   \n",
      "...    ...    ...  ...           ...   ...         ...        ...         ...   \n",
      "2134  2023      1   31         Daily    LA     TENSAS       22107          17   \n",
      "2135  2023      1   31         Daily    LA     TENSAS       22107          18   \n",
      "2136  2023      1   31         Daily    LA     TENSAS       22107          19   \n",
      "2137  2023      1   31         Daily    LA     TENSAS       22107          20   \n",
      "2138  2023      1   31         Daily    LA     TENSAS       22107          21   \n",
      "\n",
      "      Lat (llcrnr)  Lon (llcrnr)  Lat (urcrnr)  Lon (urcrnr)  \\\n",
      "0        30.036918    -92.284675     30.150691    -92.158298   \n",
      "1        30.150691    -92.284675     30.264464    -92.158298   \n",
      "2        30.264464    -92.284675     30.378237    -92.158298   \n",
      "3        30.036918    -92.158298     30.150691    -92.031921   \n",
      "4        30.150691    -92.158298     30.264464    -92.031921   \n",
      "...            ...           ...           ...           ...   \n",
      "2134     32.042809    -91.246447     32.146074    -91.136689   \n",
      "2135     32.146074    -91.246447     32.249339    -91.136689   \n",
      "2136     31.939543    -91.136689     32.042809    -91.026931   \n",
      "2137     32.042809    -91.136689     32.146074    -91.026931   \n",
      "2138     32.146074    -91.136689     32.249339    -91.026931   \n",
      "\n",
      "      Avg Temperature (K)  Precipitation (kg m**-2)  Relative Humidity (%)  \\\n",
      "0               290.49152                     0.002                   98.4   \n",
      "1               290.36652                     0.001                   99.3   \n",
      "2               290.17902                     0.000                   96.9   \n",
      "3               291.24152                     0.000                   96.5   \n",
      "4               290.86652                     0.001                   97.0   \n",
      "...                   ...                       ...                    ...   \n",
      "2134            277.53120                     0.306                   94.9   \n",
      "2135            277.09370                     0.487                   94.8   \n",
      "2136            277.90620                     2.228                   96.7   \n",
      "2137            277.78120                     1.275                   95.5   \n",
      "2138            277.40620                     0.129                   95.4   \n",
      "\n",
      "      Wind Gust (m s**-1)  U Component of Wind (m s**-1)  \\\n",
      "0                1.175584                      -0.282517   \n",
      "1                2.238084                      -0.845017   \n",
      "2                3.488084                      -0.970017   \n",
      "3                0.613084                       0.029983   \n",
      "4                1.675584                      -0.657517   \n",
      "...                   ...                            ...   \n",
      "2134             5.626634                       0.046226   \n",
      "2135             6.501634                       0.296227   \n",
      "2136             4.564134                       0.233727   \n",
      "2137             5.439134                       0.421227   \n",
      "2138             5.501634                       0.733726   \n",
      "\n",
      "      V Component of Wind (m s**-1)  \\\n",
      "0                          0.313807   \n",
      "1                         -1.373693   \n",
      "2                         -2.686193   \n",
      "3                          0.876307   \n",
      "4                         -0.436193   \n",
      "...                             ...   \n",
      "2134                      -5.804747   \n",
      "2135                      -5.867247   \n",
      "2136                      -4.992247   \n",
      "2137                      -5.117247   \n",
      "2138                      -5.117247   \n",
      "\n",
      "      Downward Shortwave Radiation Flux (W m**-2)  \n",
      "0                                             0.0  \n",
      "1                                             0.0  \n",
      "2                                             0.0  \n",
      "3                                             0.0  \n",
      "4                                             0.0  \n",
      "...                                           ...  \n",
      "2134                                          3.8  \n",
      "2135                                          6.1  \n",
      "2136                                          2.7  \n",
      "2137                                          4.1  \n",
      "2138                                          2.8  \n",
      "\n",
      "[2139 rows x 19 columns]\n"
     ]
    }
   ],
   "source": [
    "import pandas as pd\n",
    "df = pd.read_csv('/home/kaleb/Desktop/full_preprocessing_output/daily_data/2023/LA/HRRR_22_LA_2023-01.csv', index_col=False, na_filter=False, na_values='N/A')\n",
    "\n",
    "print(df)\n"
   ],
   "metadata": {
    "collapsed": false
   }
  },
  {
   "cell_type": "code",
   "execution_count": 4,
   "outputs": [
    {
     "name": "stdout",
     "output_type": "stream",
     "text": [
      "[0. 0. 0. 0. 0.]\n"
     ]
    }
   ],
   "source": [
    "import numpy as np\n",
    "names = [1,2,3,4,45]\n",
    "arr = np.zeros((len(names),))\n",
    "\n",
    "print(arr)"
   ],
   "metadata": {
    "collapsed": false
   }
  },
  {
   "cell_type": "code",
   "execution_count": 20,
   "outputs": [
    {
     "name": "stderr",
     "output_type": "stream",
     "text": [
      "ERROR 1: PROJ: proj_create_from_database: Open of /home/kaleb/miniconda3/envs/postproc/share/proj failed\n"
     ]
    },
    {
     "name": "stdout",
     "output_type": "stream",
     "text": [
      "✅ Found ┊ model=hrrr ┊ \u001B[3mproduct=sfc\u001B[0m ┊ \u001B[38;2;41;130;13m2019-Jan-01 00:00 UTC\u001B[92m F00\u001B[0m ┊ \u001B[38;2;255;153;0m\u001B[3mGRIB2 @ aws\u001B[0m ┊ \u001B[38;2;255;153;0m\u001B[3mIDX @ aws\u001B[0m\n"
     ]
    }
   ],
   "source": [
    "from datetime import datetime\n",
    "from herbie import Herbie\n",
    "dtobj = datetime.strptime(\"20190101 00:00\", \"%Y%m%d %H:%M\")\n",
    "herb = Herbie(dtobj, model='hrrr',\n",
    "                              product='sfc', save_dir='/home/kaleb/', verbose=True,\n",
    "                              priority=['pando', 'pando2', 'aws', 'nomads',\n",
    "                                        'google', 'azure', 'ecmwf', 'aws-old'],\n",
    "                              fxx=0,\n",
    "                              overwrite=False)\n"
   ],
   "metadata": {
    "collapsed": false
   }
  },
  {
   "cell_type": "code",
   "execution_count": 39,
   "outputs": [
    {
     "name": "stdout",
     "output_type": "stream",
     "text": [
      "<xarray.DataArray 'xx' ()>\n",
      "array(33)\n",
      "Coordinates:\n",
      "    time               datetime64[ns] 2019-01-01\n",
      "    step               timedelta64[ns] 00:00:00\n",
      "    heightAboveGround  float64 2.0\n",
      "    valid_time         datetime64[ns] 2019-01-01\n",
      "    xx                 int64 33\n"
     ]
    }
   ],
   "source": [
    "lon_lats = [(-99, 32), (-100, 33)]\n",
    "grid_names = ['a', 'b']\n",
    "dict = {'xx': 33}\n",
    "xx = herb.xarray(\":(?:TMP|RH):2 m\").assign_coords(coords=dict).xx\n",
    "print(xx)"
   ],
   "metadata": {
    "collapsed": false
   }
  },
  {
   "cell_type": "code",
   "execution_count": 38,
   "outputs": [
    {
     "name": "stderr",
     "output_type": "stream",
     "text": [
      "/home/kaleb/miniconda3/envs/postproc/lib/python3.9/site-packages/metpy/xarray.py:382: UserWarning: More than one time coordinate present for variable \"gribfile_projection\".\n",
      "  warnings.warn('More than one ' + axis + ' coordinate present for variable'\n",
      "/home/kaleb/miniconda3/envs/postproc/lib/python3.9/site-packages/metpy/xarray.py:382: UserWarning: More than one time coordinate present for variable \"t2m\".\n",
      "  warnings.warn('More than one ' + axis + ' coordinate present for variable'\n",
      "/home/kaleb/miniconda3/envs/postproc/lib/python3.9/site-packages/metpy/xarray.py:382: UserWarning: More than one time coordinate present for variable \"r2\".\n",
      "  warnings.warn('More than one ' + axis + ' coordinate present for variable'\n",
      "/home/kaleb/miniconda3/envs/postproc/lib/python3.9/site-packages/metpy/xarray.py:382: UserWarning: More than one time coordinate present for variable \"gribfile_projection\".\n",
      "  warnings.warn('More than one ' + axis + ' coordinate present for variable'\n"
     ]
    },
    {
     "name": "stdout",
     "output_type": "stream",
     "text": [
      "<xarray.Dataset>\n",
      "Dimensions:              (point: 2)\n",
      "Coordinates:\n",
      "    time                 datetime64[ns] 2019-01-01\n",
      "    step                 timedelta64[ns] 00:00:00\n",
      "    heightAboveGround    float64 2.0\n",
      "    latitude             (point) float64 32.0 33.0\n",
      "    longitude            (point) float64 261.0 260.0\n",
      "    valid_time           datetime64[ns] 2019-01-01\n",
      "    metpy_crs            object Projection: lambert_conformal_conic\n",
      "    y                    (point) float64 -7.233e+05 -6.093e+05\n",
      "    x                    (point) float64 -1.415e+05 -2.345e+05\n",
      "  * point                (point) <U1 'a' 'b'\n",
      "Data variables:\n",
      "    t2m                  (point) float32 285.3 285.6\n",
      "    r2                   (point) float32 36.5 32.7\n",
      "    gribfile_projection  (point) object None None\n",
      "Attributes:\n",
      "    GRIB_edition:            2\n",
      "    GRIB_centre:             kwbc\n",
      "    GRIB_centreDescription:  US National Weather Service - NCEP\n",
      "    GRIB_subCentre:          0\n",
      "    Conventions:             CF-1.7\n",
      "    institution:             US National Weather Service - NCEP\n",
      "    model:                   hrrr\n",
      "    product:                 sfc\n",
      "    description:             High-Resolution Rapid Refresh - CONUS\n",
      "    remote_grib:             https://noaa-hrrr-bdp-pds.s3.amazonaws.com/hrrr....\n",
      "    local_grib:              /home/kaleb/hrrr/20190101/subset_97efa336__hrrr....\n",
      "    searchString:            :(?:TMP|RH):2 m\n"
     ]
    }
   ],
   "source": [
    "temp_rh_obj = herb.xarray(\":(?:TMP|RH):2 m\").herbie.nearest_points(points=lon_lats, names=grid_names)\n",
    "print(temp_rh_obj)"
   ],
   "metadata": {
    "collapsed": false
   }
  },
  {
   "cell_type": "code",
   "execution_count": 8,
   "outputs": [
    {
     "name": "stdout",
     "output_type": "stream",
     "text": [
      "['LA', 'MS', 'IA', 'IL']\n"
     ]
    }
   ],
   "source": [
    "'''\n",
    "Find all fips codes of counties of a given state, given the abbreviation\n",
    "'''\n",
    "args = \"state=LA,MS,IA,IL\"\n",
    "sep = args.split('=')\n",
    "states = sep[1].split(',')\n",
    "print(states)"
   ],
   "metadata": {
    "collapsed": false
   }
  },
  {
   "cell_type": "code",
   "execution_count": 9,
   "outputs": [
    {
     "name": "stdout",
     "output_type": "stream",
     "text": [
      "['LA', 'MS', 'IA', 'IL']\n"
     ]
    }
   ],
   "source": [
    "for i in range(len(states)):\n",
    "    states[i] = states[i].strip()\n",
    "print(states)"
   ],
   "metadata": {
    "collapsed": false
   }
  },
  {
   "cell_type": "code",
   "execution_count": 10,
   "outputs": [],
   "source": [
    "import pandas as pd\n",
    "all_county_df = pd.read_csv(\"../myFiles/countyInfo/countyFipsandCoordinates.csv\", dtype=str)\n",
    "state_abbrev_df = pd.read_csv(\"../myFiles/countyInfo/us-state-ansi-fips2.csv\", dtype=str)\n",
    "# print(all_county_csv.head())"
   ],
   "metadata": {
    "collapsed": false
   }
  },
  {
   "cell_type": "code",
   "execution_count": 12,
   "outputs": [
    {
     "name": "stdout",
     "output_type": "stream",
     "text": [
      "['22', '28', '19', '17']\n",
      "--fips 22007 22017 22027 22061 22055 22005 22089 22113 22123 22109 22011 22041 22107 22093 22079 22099 22013 22125 22015 22081 22003 22083 22127 22117 22053 22111 22069 22087 22101 22095 22009 22065 22115 22031 22035 22021 22037 22045 22047 22119 22067 22071 22073 22063 22001 22025 22097 22105 22019 22049 22051 22033 22077 22029 22103 22091 22057 22023 22121 22075 22059 22039 22043 22085 28099 28117 28107 28131 28003 28039 28129 28095 28035 28081 28031 28069 28015 28077 28123 28005 28023 28057 28103 28075 28115 28161 28159 28037 28085 28097 28101 28067 28017 28111 28079 28061 28009 28137 28105 28113 28071 28001 28139 28049 28065 28053 28145 28019 28029 28055 28133 28087 28073 28059 28025 28135 28147 28143 28157 28013 28021 28041 28047 28127 28027 28151 28043 28091 28125 28153 28063 28089 28119 28011 28141 28093 28109 28149 28051 28007 28045 28033 28121 28083 28163 28155 19109 19031 19069 19027 19075 19165 19197 19025 19187 19087 19175 19067 19137 19147 19047 19081 19019 19123 19125 19179 19135 19141 19003 19011 19033 19077 19035 19017 19013 19107 19177 19009 19171 19091 19015 19113 19029 19049 19063 19185 19121 19023 19073 19021 19079 19145 19037 19055 19169 19095 19103 19159 19041 19093 19163 19089 19115 19097 19083 19119 19105 19151 19005 19007 19139 19191 19039 19045 19059 19065 19181 19111 19053 19149 19157 19129 19167 19043 19061 19189 19195 19127 19131 19133 19155 19051 19161 19143 19057 19101 19153 19183 19085 19001 19071 19173 19117 19193 19099 17189 17005 17107 17095 17079 17115 17117 17123 17029 17037 17041 17049 17053 17047 17137 17109 17121 17175 17199 17141 17101 17135 17059 17055 17093 17039 17011 17197 17171 17187 17051 17153 17035 17023 17163 17147 17097 17169 17045 17009 17043 17017 17063 17201 17007 17001 17103 17173 17111 17061 17157 17019 17159 17131 17191 17027 17075 17065 17067 17099 17091 17139 17185 17113 17143 17151 17069 17015 17057 17183 17033 17089 17125 17025 17021 17073 17129 17133 17149 17083 17119 17081 17155 17105 17167 17203 17087 17165 17013 17195 17181 17003 17071 17031 17177 17161 17179 17145 17127 17077 17085 17193 \n"
     ]
    }
   ],
   "source": [
    "state_fips = []\n",
    "county_fips = []\n",
    "for state in states:\n",
    "    this_state_fips = state_abbrev_df['st'].where(state_abbrev_df['stusps'] == state).dropna().values[0]\n",
    "    county_fips_from_state = all_county_df[all_county_df['fips_code'].str.startswith(this_state_fips)]\n",
    "    county_fips_from_state = county_fips_from_state['fips_code'].dropna().values\n",
    "    # county_fips_from_state = county_fips_from_state[0:len(county_fips_from_state)-2]\n",
    "    state_fips.append(this_state_fips)\n",
    "    county_fips.append(county_fips_from_state)\n",
    "print(state_fips)\n",
    "# print(county_fips)\n",
    "# for val in county_fips:\n",
    "#     print(val)\n",
    "string_out = '--fips '\n",
    "for arr in county_fips:\n",
    "    for val in arr:\n",
    "        string_out += val + ' '\n",
    "print(string_out)"
   ],
   "metadata": {
    "collapsed": false
   }
  },
  {
   "cell_type": "code",
   "execution_count": 16,
   "outputs": [
    {
     "name": "stdout",
     "output_type": "stream",
     "text": [
      "['17189' '17005' '17107' '17095' '17079' '17115' '17117' '17123' '17029'\n",
      " '17037' '17041' '17049' '17053' '17047' '17137' '17109' '17121' '17175'\n",
      " '17199' '17141' '17101' '17135' '17059' '17055' '17093' '17039' '17011'\n",
      " '17197' '17171' '17187' '17051' '17153' '17035' '17023' '17163' '17147'\n",
      " '17097' '17169' '17045' '17009' '17043' '17017' '17063' '17201' '17007'\n",
      " '17001' '17103' '17173' '17111' '17061' '17157' '17019' '17159' '17131'\n",
      " '17191' '17027' '17075' '17065' '17067' '17099' '17091' '17139' '17185'\n",
      " '17113' '17143' '17151' '17069' '17015' '17057' '17183' '17033' '17089'\n",
      " '17125' '17025' '17021' '17073' '17129' '17133' '17149' '17083' '17119'\n",
      " '17081' '17155' '17105' '17167' '17203' '17087' '17165' '17013' '17195'\n",
      " '17181' '17003' '17071' '17031' '17177' '17161' '17179' '17145' '17127'\n",
      " '17077' '17085' '17193']\n"
     ]
    }
   ],
   "source": [
    "arrr = string_out.split(' ')\n",
    "print((arr))"
   ],
   "metadata": {
    "collapsed": false
   }
  },
  {
   "cell_type": "code",
   "execution_count": 18,
   "outputs": [],
   "source": [
    "herb = None\n",
    "if herb:\n",
    "    print('herb')"
   ],
   "metadata": {
    "collapsed": false
   }
  },
  {
   "cell_type": "code",
   "execution_count": 1,
   "outputs": [],
   "source": [
    "import pandas as pd\n",
    "import numpy as np\n",
    "dict = {'col1' : [0,1,2,3,4,5,6,7,8,8,8,8,0,0,0,4,4,4],\n",
    "       'col2' : [3,4,3,4,5,3,5,5,3,5,6,7,0,0,4,3,2,0]}\n",
    "df = pd.DataFrame(dict)"
   ],
   "metadata": {
    "collapsed": false
   }
  },
  {
   "cell_type": "code",
   "execution_count": 2,
   "outputs": [
    {
     "name": "stdout",
     "output_type": "stream",
     "text": [
      "0     0\n",
      "1     1\n",
      "2     2\n",
      "3     3\n",
      "4     4\n",
      "5     5\n",
      "6     6\n",
      "7     7\n",
      "8     8\n",
      "9     8\n",
      "10    8\n",
      "11    8\n",
      "12    0\n",
      "13    0\n",
      "14    0\n",
      "15    4\n",
      "16    4\n",
      "17    4\n",
      "Name: col1, dtype: int64\n",
      "[1. 1. 2. 3. 4. 5. 6. 7. 8. 8. 8. 8. 8. 8. 8. 4. 4. 4.]\n"
     ]
    }
   ],
   "source": [
    "col1 = df['col1']\n",
    "print(col1)\n",
    "col1.replace(0, np.nan, inplace=True)\n",
    "col1.ffill(inplace=True)\n",
    "col1.bfill(inplace=True)\n",
    "col1 = col1.to_numpy().astype(dtype=float)\n",
    "print(col1)"
   ],
   "metadata": {
    "collapsed": false
   }
  },
  {
   "cell_type": "code",
   "execution_count": 4,
   "outputs": [
    {
     "name": "stdout",
     "output_type": "stream",
     "text": [
      "[-12345.678 -12345.678 -12345.678 -12345.678]\n"
     ]
    }
   ],
   "source": [
    "arr = np.full((4,), -12345.678)\n",
    "print(arr)"
   ],
   "metadata": {
    "collapsed": false
   }
  },
  {
   "cell_type": "code",
   "execution_count": 20,
   "outputs": [
    {
     "name": "stdout",
     "output_type": "stream",
     "text": [
      "[4.]\n",
      "[]\n",
      "[8. 2. 4.]\n"
     ]
    }
   ],
   "source": [
    "import numpy as np\n",
    "a = np.empty((1,))\n",
    "print(a)\n",
    "a = np.delete(a, 0)\n",
    "print(a)\n",
    "b = np.array([8, 2, 4])\n",
    "\n",
    "c = np.concatenate((a,b))\n",
    "print(c)"
   ],
   "metadata": {
    "collapsed": false
   }
  },
  {
   "cell_type": "code",
   "execution_count": null,
   "outputs": [],
   "source": [
    "for i in range(0,6,2):\n",
    "    print(i)"
   ],
   "metadata": {
    "collapsed": false,
    "pycharm": {
     "is_executing": true
    }
   }
  },
  {
   "cell_type": "code",
   "execution_count": 12,
   "outputs": [],
   "source": [],
   "metadata": {
    "collapsed": false
   }
  }
 ],
 "metadata": {
  "kernelspec": {
   "display_name": "Python 3",
   "language": "python",
   "name": "python3"
  },
  "language_info": {
   "codemirror_mode": {
    "name": "ipython",
    "version": 2
   },
   "file_extension": ".py",
   "mimetype": "text/x-python",
   "name": "python",
   "nbconvert_exporter": "python",
   "pygments_lexer": "ipython2",
   "version": "2.7.6"
  }
 },
 "nbformat": 4,
 "nbformat_minor": 0
}
