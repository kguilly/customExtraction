{
 "cells": [
  {
   "attachments": {},
   "cell_type": "markdown",
   "metadata": {},
   "source": [
    "# HRRR Tutorial\n",
    "\n",
    "### This tutorial includes how to download and extract the necessary information for a given point in the continential United States\n",
    "### <p>\n",
    "###    <center> this is how to center <center>\n",
    "# </p>\n",
    "\n",
    "This tutorial includes:\n",
    "\n",
    " - [GRIB2 overview](#overview) \n",
    " - [Downloading HRRR GRIB2](#download)\n",
    " - [Extracting data from GRIB2](#extraction)\n",
    " - [Additional Resources](#additional_resources)\n",
    "\n",
    "\n",
    "### Downloading HRRR GRIB2 <a class=\"anchor\" id=\"download\"></a>\n",
    "---\n",
    "NOTE: The command line examples apply to debian-based linux distrobutions. \n",
    "1. Prepare the system\n",
    "    - Begin by installing the necessary packages into your environment\n",
    "    \n",
    "        ```\n",
    "        sudo apt-get install pip;\n",
    "        pip install ecmwflibs;\n",
    "        pip install herbie-data\n",
    "        ```\n",
    "2. Download the files\n",
    "    - first import the necessary libraries \n",
    "    \n"
   ]
  },
  {
   "cell_type": "code",
   "execution_count": 1,
   "metadata": {},
   "outputs": [],
   "source": [
    "import pandas as pd\n",
    "from herbie import Herbie\n",
    "from datetime import datetime\n",
    "import numpy as np\n",
    "import pygrib as pg\n",
    "import xarray as xr"
   ]
  },
  {
   "attachments": {},
   "cell_type": "markdown",
   "metadata": {},
   "source": [
    "- set the desired date (yyyymmdd HH:MM) and directory to save"
   ]
  },
  {
   "cell_type": "code",
   "execution_count": null,
   "metadata": {},
   "outputs": [],
   "source": [
    "date = \"20210101 11:00\"\n",
    "save_dir = \"/home/kaleb/Desktop\""
   ]
  },
  {
   "attachments": {},
   "cell_type": "markdown",
   "metadata": {},
   "source": [
    "- set the desired number of hours to predict in the future (0 for real-time)\n",
    "- NOTE: precipitation and all other accumulation metric values are 0 for real-time. "
   ]
  },
  {
   "cell_type": "code",
   "execution_count": null,
   "metadata": {},
   "outputs": [],
   "source": [
    "pred_hours = 0\n",
    "precip_pred_hours = 0"
   ]
  },
  {
   "attachments": {},
   "cell_type": "markdown",
   "metadata": {},
   "source": [
    "- load the values into Herbie objects"
   ]
  },
  {
   "cell_type": "code",
   "execution_count": null,
   "metadata": {},
   "outputs": [],
   "source": [
    "herb_obj = Herbie(date, model=\"hrrr\",\n",
    "                  product=\"sfc\", save_dir=save_dir,\n",
    "                  verbose=True, fxx=pred_hours,\n",
    "                  priority= ['pando', 'pando2', 'aws', 'nomads',\n",
    "                                           'google', 'azure'],# ['pando', 'pando2', 'aws', 'nomads'],\n",
    "                  overwrite=True)\n",
    "\n",
    "precip_herb_obj = Herbie(date, model=\"hrrr\",\n",
    "                  product=\"sfc\", save_dir=save_dir,\n",
    "                  verbose=True, fxx=precip_pred_hours,\n",
    "                  priority= ['pando', 'pando2', 'aws', 'nomads',\n",
    "                                           'google', 'azure'],# ['pando', 'pando2', 'aws', 'nomads'],\n",
    "                  overwrite=True)"
   ]
  },
  {
   "attachments": {},
   "cell_type": "markdown",
   "metadata": {},
   "source": [
    "- Now the objects can be segmented into parameters of choice using regex strings of the shortnames for the parameters and their levels. A list of GRIB2 shortnames can be found [here](https://codes.ecmwf.int/grib/param-db/?filter=grib2) and an interactive tutorial of how do use regex strings can be found [here](https://regexone.com/)\n",
    "    - When segmenting the files into parameters of choice, one can either keep the data in memory or download the file. The entire file will all parameters can be downloaded with the command:"
   ]
  },
  {
   "cell_type": "code",
   "execution_count": null,
   "metadata": {},
   "outputs": [],
   "source": [
    "herb_obj.download()\n",
    "precip_herb_obj.download()"
   ]
  },
  {
   "attachments": {},
   "cell_type": "markdown",
   "metadata": {},
   "source": [
    "\n",
    "### Extracting From GRIB2 <a class=\"anchor\" id=\"extraction\"></a>\n",
    "---\n",
    "To avoid the WRF files taking up a large chunk of hard drive memory, they can be segmented into only the needed data . \n",
    "\n",
    "### Additional Resources <a class=\"anchor\" id=\"additional_resources\"></a>\n",
    "--- \n",
    "\n",
    "ECMWF homepage\n",
    "Pygrib homepage\n",
    "Herbie Documentation\n",
    "NOAA homepage\n",
    "\n",
    "\n"
   ]
  }
 ],
 "metadata": {
  "kernelspec": {
   "display_name": "postproc",
   "language": "python",
   "name": "python3"
  },
  "language_info": {
   "codemirror_mode": {
    "name": "ipython",
    "version": 3
   },
   "file_extension": ".py",
   "mimetype": "text/x-python",
   "name": "python",
   "nbconvert_exporter": "python",
   "pygments_lexer": "ipython3",
   "version": "3.9.16"
  },
  "orig_nbformat": 4
 },
 "nbformat": 4,
 "nbformat_minor": 2
}
