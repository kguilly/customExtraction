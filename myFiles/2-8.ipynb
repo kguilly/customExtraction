{
 "cells": [
  {
   "cell_type": "code",
   "execution_count": 4,
   "metadata": {
    "collapsed": true
   },
   "outputs": [],
   "source": [
    "import numpy as np\n",
    "import pygrib\n",
    "import os\n",
    "import pandas as pd"
   ]
  },
  {
   "cell_type": "code",
   "execution_count": 5,
   "outputs": [],
   "source": [
    "dir = \"/home/kaleb/Desktop/2-7_hourly_data_FINAL/WRFextract_2-2/Hourly/herbie_data/hrrr/20200101/subset_43e4a54b__hrrr.t14z.wrfnatf01.grib2\"\n",
    "grib_file_dir = dir + \"hrrr.20190501.00.00.grib2\""
   ],
   "metadata": {
    "collapsed": false
   }
  },
  {
   "cell_type": "code",
   "execution_count": 6,
   "outputs": [],
   "source": [
    "grib = pygrib.open(dir)\n",
    "for g in grib:\n",
    "    print(g)"
   ],
   "metadata": {
    "collapsed": false
   }
  },
  {
   "cell_type": "code",
   "execution_count": 6,
   "outputs": [
    {
     "name": "stdout",
     "output_type": "stream",
     "text": [
      "108:Downward short-wave radiation flux:W m**-2 (instant):lambert:surface:level 0:fcst time 0 hrs:from 201905010000\n"
     ]
    },
    {
     "ename": "IndexError",
     "evalue": "index 1089 is out of bounds for axis 0 with size 1059",
     "output_type": "error",
     "traceback": [
      "\u001B[0;31m---------------------------------------------------------------------------\u001B[0m",
      "\u001B[0;31mIndexError\u001B[0m                                Traceback (most recent call last)",
      "Cell \u001B[0;32mIn[6], line 12\u001B[0m\n\u001B[1;32m      9\u001B[0m dis_mat \u001B[38;5;241m=\u001B[39m (lt \u001B[38;5;241m-\u001B[39m lat_m) \u001B[38;5;241m*\u001B[39m\u001B[38;5;241m*\u001B[39m \u001B[38;5;241m2\u001B[39m \u001B[38;5;241m+\u001B[39m (ln \u001B[38;5;241m-\u001B[39m lon_m) \u001B[38;5;241m*\u001B[39m\u001B[38;5;241m*\u001B[39m \u001B[38;5;241m2\u001B[39m\n\u001B[1;32m     11\u001B[0m p_lt, p_ln \u001B[38;5;241m=\u001B[39m np\u001B[38;5;241m.\u001B[39munravel_index(dis_mat\u001B[38;5;241m.\u001B[39margmin(), dis_mat\u001B[38;5;241m.\u001B[39mshape)\n\u001B[0;32m---> 12\u001B[0m \u001B[38;5;28mprint\u001B[39m(lt[p_lt], \u001B[43mln\u001B[49m\u001B[43m[\u001B[49m\u001B[43mp_ln\u001B[49m\u001B[43m]\u001B[49m)\n\u001B[1;32m     13\u001B[0m value \u001B[38;5;241m=\u001B[39m data[p_lt, p_ln]\n\u001B[1;32m     14\u001B[0m \u001B[38;5;28mprint\u001B[39m(p_lt, p_ln)\n",
      "\u001B[0;31mIndexError\u001B[0m: index 1089 is out of bounds for axis 0 with size 1059"
     ]
    }
   ],
   "source": [
    "short_wave = grib[108]\n",
    "print(short_wave)\n",
    "lat_st_mid = (31.73301 + 31.8367) / 2\n",
    "lon_st_mid = (268.4242-360 + 268.53403-360) / 2\n",
    "data = short_wave.values\n",
    "lt, ln = short_wave.latlons()\n",
    "lat_m = np.full_like(lt, lat_st_mid)\n",
    "lon_m = np.full_like(ln, lon_st_mid)\n",
    "dis_mat = (lt - lat_m) ** 2 + (ln - lon_m) ** 2\n",
    "\n",
    "p_lt, p_ln = np.unravel_index(dis_mat.argmin(), dis_mat.shape)\n",
    "print(lt[p_lt], ln[p_ln])\n",
    "value = data[p_lt, p_ln]\n",
    "print(p_lt, p_ln)\n",
    "print()\n",
    "print(value)"
   ],
   "metadata": {
    "collapsed": false
   }
  },
  {
   "cell_type": "code",
   "execution_count": 8,
   "outputs": [
    {
     "ename": "TypeError",
     "evalue": "cannot unpack non-iterable int object",
     "output_type": "error",
     "traceback": [
      "\u001B[0;31m---------------------------------------------------------------------------\u001B[0m",
      "\u001B[0;31mTypeError\u001B[0m                                 Traceback (most recent call last)",
      "Cell \u001B[0;32mIn[8], line 4\u001B[0m\n\u001B[1;32m      2\u001B[0m c_ln \u001B[38;5;241m=\u001B[39m \u001B[38;5;241m9999\u001B[39m\n\u001B[1;32m      3\u001B[0m closestPt \u001B[38;5;241m=\u001B[39m \u001B[38;5;241m9999\u001B[39m\n\u001B[0;32m----> 4\u001B[0m \u001B[38;5;28;01mfor\u001B[39;00m i,j \u001B[38;5;129;01min\u001B[39;00m \u001B[38;5;28mrange\u001B[39m(\u001B[38;5;28mlen\u001B[39m(lt)):\n\u001B[1;32m      5\u001B[0m     \u001B[38;5;28;01mfor\u001B[39;00m j \u001B[38;5;129;01min\u001B[39;00m \u001B[38;5;28mrange\u001B[39m(\u001B[38;5;28mlen\u001B[39m(lt)):\n\u001B[1;32m      6\u001B[0m         g_lt \u001B[38;5;241m=\u001B[39m lt[i][j]\n",
      "\u001B[0;31mTypeError\u001B[0m: cannot unpack non-iterable int object"
     ]
    }
   ],
   "source": [
    "c_lt = 9999\n",
    "c_ln = 9999\n",
    "closestPt = 9999\n",
    "for i,j in range(len(lt)):\n",
    "    for j in range(len(lt)):\n",
    "        g_lt = lt[i][j]\n",
    "        print(g_lt, g_lt.shape())\n",
    "        exit()\n",
    "        if (g_lt - lat_st_mid) ** 2 < closestPt:\n",
    "            closestPt = (g_lt - lat_st_mid) ** 2\n",
    "            c_lt = g_lt\n",
    "closestLn = 9999\n",
    "for i in range(len(ln)):\n",
    "    g_ln = ln[i]\n",
    "    if(g_ln - lon_st_mid) ** 2 < closestPt:\n",
    "        closestLn = (g_ln - lon_st_mid) ** 2\n",
    "        c_ln = g_lt\n",
    "\n",
    "print(c_lt, c_ln)"
   ],
   "metadata": {
    "collapsed": false
   }
  },
  {
   "cell_type": "code",
   "execution_count": null,
   "outputs": [],
   "source": [
    "df = \"Year  Month  ...  Total Precipitation (kg m**-2) Vapor Pressure Deficit (kPa) [0   2020      1  ...                           0.000                     0.130638] [1   2020      1  ...                           0.000                     0.252436] [2   2020      1  ...                           0.006                     0.136046] [3   2020      1  ...                           2.089                     0.083727] [4   2020      1  ...                           0.004                     0.220082] [..   ...    ...  ...                             ...                          ...] [75  2020      1  ...                           0.000                     0.192361] [76  2020      1  ...                           0.000                     0.175523] [77  2020      1  ...                           0.028                     0.146327] [78  2020      1  ...                           1.062                     0.159036] [79  2020      1  ...                           0.027                     0.188729] [] [[80 rows x 22 c...]\""
   ],
   "metadata": {
    "collapsed": false,
    "pycharm": {
     "is_executing": true
    }
   }
  },
  {
   "cell_type": "code",
   "execution_count": 7,
   "outputs": [],
   "source": [],
   "metadata": {
    "collapsed": false
   }
  }
 ],
 "metadata": {
  "kernelspec": {
   "display_name": "Python 3",
   "language": "python",
   "name": "python3"
  },
  "language_info": {
   "codemirror_mode": {
    "name": "ipython",
    "version": 2
   },
   "file_extension": ".py",
   "mimetype": "text/x-python",
   "name": "python",
   "nbconvert_exporter": "python",
   "pygments_lexer": "ipython2",
   "version": "2.7.6"
  }
 },
 "nbformat": 4,
 "nbformat_minor": 0
}
