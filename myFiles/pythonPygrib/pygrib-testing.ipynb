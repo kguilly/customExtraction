{
 "cells": [
  {
   "cell_type": "code",
   "execution_count": 25,
   "metadata": {
    "collapsed": true
   },
   "outputs": [],
   "source": [
    "import numpy as np\n",
    "import pygrib\n",
    "grb = pygrib.open('/home/kaleb/Desktop/Grib2files/20200101/hrrr.20200101.00.00.grib2')\n"
   ]
  },
  {
   "cell_type": "code",
   "execution_count": 4,
   "outputs": [
    {
     "ename": "ValueError",
     "evalue": "no matches found",
     "output_type": "error",
     "traceback": [
      "\u001B[0;31m---------------------------------------------------------------------------\u001B[0m",
      "\u001B[0;31mValueError\u001B[0m                                Traceback (most recent call last)",
      "Cell \u001B[0;32mIn[4], line 2\u001B[0m\n\u001B[1;32m      1\u001B[0m grbindex \u001B[38;5;241m=\u001B[39m pygrib\u001B[38;5;241m.\u001B[39mindex(\u001B[38;5;124m'\u001B[39m\u001B[38;5;124m/home/kaleb/Desktop/Grib2files/20200101/hrrr.20200101.00.00.grib2\u001B[39m\u001B[38;5;124m'\u001B[39m, \u001B[38;5;124m'\u001B[39m\u001B[38;5;124mshortName\u001B[39m\u001B[38;5;124m'\u001B[39m, \u001B[38;5;124m'\u001B[39m\u001B[38;5;124mlevel\u001B[39m\u001B[38;5;124m'\u001B[39m)\n\u001B[0;32m----> 2\u001B[0m selected_grbs \u001B[38;5;241m=\u001B[39m \u001B[43mgrbindex\u001B[49m\u001B[38;5;241;43m.\u001B[39;49m\u001B[43mselect\u001B[49m\u001B[43m(\u001B[49m\u001B[43mshortName\u001B[49m\u001B[38;5;241;43m=\u001B[39;49m\u001B[38;5;124;43m'\u001B[39;49m\u001B[38;5;124;43mtmp\u001B[39;49m\u001B[38;5;124;43m'\u001B[39;49m\u001B[43m,\u001B[49m\u001B[43m \u001B[49m\u001B[43mlevel\u001B[49m\u001B[38;5;241;43m=\u001B[39;49m\u001B[38;5;241;43m2\u001B[39;49m\u001B[43m)\u001B[49m\n",
      "File \u001B[0;32msrc/pygrib/_pygrib.pyx:1898\u001B[0m, in \u001B[0;36mpygrib._pygrib.index.select\u001B[0;34m()\u001B[0m\n",
      "\u001B[0;31mValueError\u001B[0m: no matches found"
     ]
    }
   ],
   "source": [
    "grbindex = pygrib.index('/home/kaleb/Desktop/Grib2files/20200101/hrrr.20200101.00.00.grib2', 'shortName', 'level')\n",
    "selected_grbs = grbindex.select(shortName='tmp', level=2)\n"
   ],
   "metadata": {
    "collapsed": false
   }
  },
  {
   "cell_type": "code",
   "execution_count": 30,
   "outputs": [
    {
     "name": "stdout",
     "output_type": "stream",
     "text": [
      "1:Maximum/Composite radar reflectivity:dB (instant):lambert:atmosphere:level 0 -:fcst time 0 hrs:from 202001010000\n",
      "2:3:3 (instant):lambert:cloudTop:level 0:fcst time 0 hrs:from 202001010000\n",
      "3:Vertically-integrated liquid:kg m**-1 (instant):lambert:atmosphere:level 0 -:fcst time 0 hrs:from 202001010000\n",
      "4:Visibility:m (instant):lambert:surface:level 0:fcst time 0 hrs:from 202001010000\n",
      "5:Derived radar reflectivity:dB (instant):lambert:heightAboveGround:level 1000 m:fcst time 0 hrs:from 202001010000\n",
      "6:Derived radar reflectivity:dB (instant):lambert:heightAboveGround:level 4000 m:fcst time 0 hrs:from 202001010000\n",
      "7:Derived radar reflectivity:dB (instant):lambert:isothermal:level 263 K:fcst time 0 hrs:from 202001010000\n",
      "8:Wind speed (gust):m s**-1 (instant):lambert:surface:level 0:fcst time 0 hrs:from 202001010000\n",
      "9:U component of wind:m s**-1 (instant):lambert:isobaricInhPa:level 25000 Pa:fcst time 0 hrs:from 202001010000\n",
      "10:V component of wind:m s**-1 (instant):lambert:isobaricInhPa:level 25000 Pa:fcst time 0 hrs:from 202001010000\n",
      "11:U component of wind:m s**-1 (instant):lambert:isobaricInhPa:level 30000 Pa:fcst time 0 hrs:from 202001010000\n",
      "12:V component of wind:m s**-1 (instant):lambert:isobaricInhPa:level 30000 Pa:fcst time 0 hrs:from 202001010000\n",
      "13:Geopotential height:gpm (instant):lambert:isobaricInhPa:level 50000 Pa:fcst time 0 hrs:from 202001010000\n",
      "14:Temperature:K (instant):lambert:isobaricInhPa:level 50000 Pa:fcst time 0 hrs:from 202001010000\n",
      "15:Dew point temperature:K (instant):lambert:isobaricInhPa:level 50000 Pa:fcst time 0 hrs:from 202001010000\n",
      "16:U component of wind:m s**-1 (instant):lambert:isobaricInhPa:level 50000 Pa:fcst time 0 hrs:from 202001010000\n",
      "17:V component of wind:m s**-1 (instant):lambert:isobaricInhPa:level 50000 Pa:fcst time 0 hrs:from 202001010000\n",
      "18:Geopotential height:gpm (instant):lambert:isobaricInhPa:level 70000 Pa:fcst time 0 hrs:from 202001010000\n",
      "19:Temperature:K (instant):lambert:isobaricInhPa:level 70000 Pa:fcst time 0 hrs:from 202001010000\n",
      "20:Dew point temperature:K (instant):lambert:isobaricInhPa:level 70000 Pa:fcst time 0 hrs:from 202001010000\n",
      "21:U component of wind:m s**-1 (instant):lambert:isobaricInhPa:level 70000 Pa:fcst time 0 hrs:from 202001010000\n",
      "22:V component of wind:m s**-1 (instant):lambert:isobaricInhPa:level 70000 Pa:fcst time 0 hrs:from 202001010000\n",
      "23:Geopotential height:gpm (instant):lambert:isobaricInhPa:level 85000 Pa:fcst time 0 hrs:from 202001010000\n",
      "24:Temperature:K (instant):lambert:isobaricInhPa:level 85000 Pa:fcst time 0 hrs:from 202001010000\n",
      "25:Dew point temperature:K (instant):lambert:isobaricInhPa:level 85000 Pa:fcst time 0 hrs:from 202001010000\n",
      "26:U component of wind:m s**-1 (instant):lambert:isobaricInhPa:level 85000 Pa:fcst time 0 hrs:from 202001010000\n",
      "27:V component of wind:m s**-1 (instant):lambert:isobaricInhPa:level 85000 Pa:fcst time 0 hrs:from 202001010000\n",
      "28:Temperature:K (instant):lambert:isobaricInhPa:level 92500 Pa:fcst time 0 hrs:from 202001010000\n",
      "29:Dew point temperature:K (instant):lambert:isobaricInhPa:level 92500 Pa:fcst time 0 hrs:from 202001010000\n",
      "30:U component of wind:m s**-1 (instant):lambert:isobaricInhPa:level 92500 Pa:fcst time 0 hrs:from 202001010000\n",
      "31:V component of wind:m s**-1 (instant):lambert:isobaricInhPa:level 92500 Pa:fcst time 0 hrs:from 202001010000\n",
      "32:Temperature:K (instant):lambert:isobaricInhPa:level 100000 Pa:fcst time 0 hrs:from 202001010000\n",
      "33:Dew point temperature:K (instant):lambert:isobaricInhPa:level 100000 Pa:fcst time 0 hrs:from 202001010000\n",
      "34:U component of wind:m s**-1 (instant):lambert:isobaricInhPa:level 100000 Pa:fcst time 0 hrs:from 202001010000\n",
      "35:V component of wind:m s**-1 (instant):lambert:isobaricInhPa:level 100000 Pa:fcst time 0 hrs:from 202001010000\n",
      "36:220:220 (max):lambert:pressureFromGroundLayer:levels 10000-100000 Pa:fcst time 0 hrs (max):from 202001010000\n",
      "37:221:221 (max):lambert:pressureFromGroundLayer:levels 10000-100000 Pa:fcst time 0 hrs (max):from 202001010000\n",
      "38:Geometric vertical velocity:m s**-1 (avg):lambert:sigmaLayer:levels 0.5-0.8 sigma value:fcst time 0 hrs (avg):from 202001010000\n",
      "39:MSLP (MAPS System Reduction):Pa (instant):lambert:meanSea:level 0:fcst time 0 hrs:from 202001010000\n",
      "40:Geopotential height:gpm (instant):lambert:isobaricInhPa:level 100000 Pa:fcst time 0 hrs:from 202001010000\n",
      "41:198:198 (max):lambert:heightAboveGround:level 1000 m:fcst time 0 hrs (max):from 202001010000\n",
      "42:Derived radar reflectivity:dB (max):lambert:isothermal:level 263 K:fcst time 0 hrs (max):from 202001010000\n",
      "43:199:199 (max):lambert:heightAboveGroundLayer:levels 5000-2000 m:fcst time 0 hrs (max):from 202001010000\n",
      "44:200:200 (min):lambert:heightAboveGroundLayer:levels 5000-2000 m:fcst time 0 hrs (min):from 202001010000\n",
      "45:199:199 (max):lambert:heightAboveGroundLayer:levels 2000-0 m:fcst time 0 hrs (max):from 202001010000\n",
      "46:200:200 (min):lambert:heightAboveGroundLayer:levels 2000-0 m:fcst time 0 hrs (min):from 202001010000\n",
      "47:199:199 (max):lambert:heightAboveGroundLayer:levels 3000-0 m:fcst time 0 hrs (max):from 202001010000\n",
      "48:200:200 (min):lambert:heightAboveGroundLayer:levels 3000-0 m:fcst time 0 hrs (min):from 202001010000\n",
      "49:Vorticity (relative):s**-1 (max):lambert:heightAboveGroundLayer:levels 2000-0 m:fcst time 0 hrs (max):from 202001010000\n",
      "50:Vorticity (relative):s**-1 (max):lambert:heightAboveGroundLayer:levels 1000-0 m:fcst time 0 hrs (max):from 202001010000\n",
      "51:Hail:m (max):lambert:atmosphere:level 0 -:fcst time 0 hrs (max):from 202001010000\n",
      "52:Hail:m (max):lambert:sigma:level 0.1 sigma value:fcst time 0 hrs (max):from 202001010000\n",
      "53:74:74 (max):lambert:atmosphereSingleLayer:level 0 considered as a single layer:fcst time 0 hrs (max):from 202001010000\n",
      "54:Lightning:dimensionless (instant):lambert:atmosphere:level 0 -:fcst time 0 hrs:from 202001010000\n",
      "55:U component of wind:m s**-1 (instant):lambert:heightAboveGround:level 80 m:fcst time 0 hrs:from 202001010000\n",
      "56:V component of wind:m s**-1 (instant):lambert:heightAboveGround:level 80 m:fcst time 0 hrs:from 202001010000\n",
      "57:Surface pressure:Pa (instant):lambert:surface:level 0:fcst time 0 hrs:from 202001010000\n",
      "58:Orography:m (instant):lambert:surface:level 0:fcst time 0 hrs:from 202001010000\n",
      "59:Temperature:K (instant):lambert:surface:level 0:fcst time 0 hrs:from 202001010000\n",
      "60:Total snowfall:m (accum):lambert:surface:level 0:fcst time 0 hrs (accum):from 202001010000\n",
      "61:Moisture availability:% (instant):lambert:depthBelowLand:level 0 m:fcst time 0 hrs:from 202001010000\n",
      "62:Plant canopy surface water:kg m**-2 (instant):lambert:surface:level 0:fcst time 0 hrs:from 202001010000\n",
      "63:Water equivalent of accumulated snow depth (deprecated):kg m**-2 (instant):lambert:surface:level 0:fcst time 0 hrs:from 202001010000\n",
      "64:Snow cover:% (instant):lambert:surface:level 0:fcst time 0 hrs:from 202001010000\n",
      "65:Snow depth:m (instant):lambert:surface:level 0:fcst time 0 hrs:from 202001010000\n",
      "66:2 metre temperature:K (instant):lambert:heightAboveGround:level 2 m:fcst time 0 hrs:from 202001010000\n",
      "67:Potential temperature:K (instant):lambert:heightAboveGround:level 2 m:fcst time 0 hrs:from 202001010000\n",
      "68:2 metre specific humidity:kg kg**-1 (instant):lambert:heightAboveGround:level 2 m:fcst time 0 hrs:from 202001010000\n",
      "69:2 metre dewpoint temperature:K (instant):lambert:heightAboveGround:level 2 m:fcst time 0 hrs:from 202001010000\n",
      "70:2 metre relative humidity:% (instant):lambert:heightAboveGround:level 2 m:fcst time 0 hrs:from 202001010000\n",
      "71:10 metre U wind component:m s**-1 (instant):lambert:heightAboveGround:level 10 m:fcst time 0 hrs:from 202001010000\n",
      "72:10 metre V wind component:m s**-1 (instant):lambert:heightAboveGround:level 10 m:fcst time 0 hrs:from 202001010000\n",
      "73:10 metre wind speed:m s**-1 (max):lambert:heightAboveGround:level 10 m:fcst time 0 hrs (max):from 202001010000\n",
      "74:222:222 (max):lambert:heightAboveGround:level 10 m:fcst time 0 hrs (max):from 202001010000\n",
      "75:223:223 (max):lambert:heightAboveGround:level 10 m:fcst time 0 hrs (max):from 202001010000\n",
      "76:Percent frozen precipitation:% (instant):lambert:surface:level 0:fcst time 0 hrs:from 202001010000\n",
      "77:Precipitation rate:kg m**-2 s**-1 (instant):lambert:surface:level 0:fcst time 0 hrs:from 202001010000\n",
      "78:Total Precipitation:kg m**-2 (accum):lambert:surface:level 0:fcst time 0 hrs (accum):from 202001010000\n",
      "79:Water equivalent of accumulated snow depth (deprecated):kg m**-2 (accum):lambert:surface:level 0:fcst time 0 hrs (accum):from 202001010000\n",
      "80:227:227 (accum):lambert:surface:level 0:fcst time 0 hrs (accum):from 202001010000\n",
      "81:Freezing Rain:kg m**-2 (accum):lambert:surface:level 0:fcst time 0 hrs (accum):from 202001010000\n",
      "82:Storm surface runoff:kg m**-2 (accum):lambert:surface:level 0:fcst time 0 hrs (accum):from 202001010000\n",
      "83:Baseflow-groundwater runoff:kg m**-2 (accum):lambert:surface:level 0:fcst time 0 hrs (accum):from 202001010000\n",
      "84:Categorical snow:(Code table 4.222) (instant):lambert:surface:level 0:fcst time 0 hrs:from 202001010000\n",
      "85:Categorical ice pellets:(Code table 4.222) (instant):lambert:surface:level 0:fcst time 0 hrs:from 202001010000\n",
      "86:Categorical freezing rain:(Code table 4.222) (instant):lambert:surface:level 0:fcst time 0 hrs:from 202001010000\n",
      "87:Categorical rain:(Code table 4.222) (instant):lambert:surface:level 0:fcst time 0 hrs:from 202001010000\n",
      "88:Surface roughness:m (instant):lambert:surface:level 0:fcst time 0 hrs:from 202001010000\n",
      "89:Frictional velocity:m s**-1 (instant):lambert:surface:level 0:fcst time 0 hrs:from 202001010000\n",
      "90:Instantaneous surface sensible heat flux:W m**-2 (instant):lambert:surface:level 0:fcst time 0 hrs:from 202001010000\n",
      "91:Latent heat net flux:W m**-2 (instant):lambert:surface:level 0:fcst time 0 hrs:from 202001010000\n",
      "92:Ground heat flux:W m**-2 (instant):lambert:surface:level 0:fcst time 0 hrs:from 202001010000\n",
      "93:Vegetation Type:Integer(0-13) (instant):lambert:surface:level 0:fcst time 0 hrs:from 202001010000\n",
      "94:Surface lifted index:K (instant):lambert:isobaricLayer:levels 50000-100000 Pa:fcst time 0 hrs:from 202001010000\n",
      "95:Convective available potential energy:J kg**-1 (instant):lambert:surface:level 0:fcst time 0 hrs:from 202001010000\n",
      "96:Convective inhibition:J kg**-1 (instant):lambert:surface:level 0:fcst time 0 hrs:from 202001010000\n",
      "97:Precipitable water:kg m**-2 (instant):lambert:atmosphereSingleLayer:level 0 considered as a single layer:fcst time 0 hrs:from 202001010000\n",
      "98:Low cloud cover:% (instant):lambert:lowCloudLayer:level 0:fcst time 0 hrs:from 202001010000\n",
      "99:Medium cloud cover:% (instant):lambert:middleCloudLayer:level 0:fcst time 0 hrs:from 202001010000\n",
      "100:High cloud cover:% (instant):lambert:highCloudLayer:level 0:fcst time 0 hrs:from 202001010000\n",
      "101:Total Cloud Cover:% (instant):lambert:atmosphere:level 0 -:fcst time 0 hrs:from 202001010000\n",
      "102:Pressure:Pa (instant):lambert:cloudBase:level 0:fcst time 0 hrs:from 202001010000\n",
      "103:Geopotential height:gpm (instant):lambert:cloudBase:level 0:fcst time 0 hrs:from 202001010000\n",
      "104:Geopotential height:gpm (instant):lambert:cloudCeiling:level 0:fcst time 0 hrs:from 202001010000\n",
      "105:Pressure:Pa (instant):lambert:cloudTop:level 0:fcst time 0 hrs:from 202001010000\n",
      "106:Geopotential height:gpm (instant):lambert:cloudTop:level 0:fcst time 0 hrs:from 202001010000\n",
      "107:Upward long-wave radiation flux:W m**-2 (instant):lambert:nominalTop:level 0:fcst time 0 hrs:from 202001010000\n",
      "108:Downward short-wave radiation flux:W m**-2 (instant):lambert:surface:level 0:fcst time 0 hrs:from 202001010000\n",
      "109:Downward long-wave radiation flux:W m**-2 (instant):lambert:surface:level 0:fcst time 0 hrs:from 202001010000\n",
      "110:Upward short-wave radiation flux:W m**-2 (instant):lambert:surface:level 0:fcst time 0 hrs:from 202001010000\n",
      "111:Upward long-wave radiation flux:W m**-2 (instant):lambert:surface:level 0:fcst time 0 hrs:from 202001010000\n",
      "112:Visible Beam Downward Solar Flux:W m**-2 (instant):lambert:surface:level 0:fcst time 0 hrs:from 202001010000\n",
      "113:Visible Diffuse Downward Solar Flux:W m**-2 (instant):lambert:surface:level 0:fcst time 0 hrs:from 202001010000\n",
      "114:Upward short-wave radiation flux:W m**-2 (instant):lambert:nominalTop:level 0:fcst time 0 hrs:from 202001010000\n",
      "115:Storm relative helicity:m**2 s**-2 (instant):lambert:heightAboveGroundLayer:levels 3000-0 m:fcst time 0 hrs:from 202001010000\n",
      "116:Storm relative helicity:m**2 s**-2 (instant):lambert:heightAboveGroundLayer:levels 1000-0 m:fcst time 0 hrs:from 202001010000\n",
      "117:U-component storm motion:m s**-1 (instant):lambert:heightAboveGroundLayer:levels 0-6000 m:fcst time 0 hrs:from 202001010000\n",
      "118:V-component storm motion:m s**-1 (instant):lambert:heightAboveGroundLayer:levels 0-6000 m:fcst time 0 hrs:from 202001010000\n",
      "119:Vertical u-component shear:s**-1 (instant):lambert:heightAboveGroundLayer:levels 0-1000 m:fcst time 0 hrs:from 202001010000\n",
      "120:Vertical v-component shear:s**-1 (instant):lambert:heightAboveGroundLayer:levels 0-1000 m:fcst time 0 hrs:from 202001010000\n",
      "121:Vertical u-component shear:s**-1 (instant):lambert:heightAboveGroundLayer:levels 0-6000 m:fcst time 0 hrs:from 202001010000\n",
      "122:Vertical v-component shear:s**-1 (instant):lambert:heightAboveGroundLayer:levels 0-6000 m:fcst time 0 hrs:from 202001010000\n",
      "123:Geopotential height:gpm (instant):lambert:isothermZero:level 0:fcst time 0 hrs:from 202001010000\n",
      "124:Relative humidity:% (instant):lambert:isothermZero:level 0:fcst time 0 hrs:from 202001010000\n",
      "125:Pressure:Pa (instant):lambert:isothermZero:level 0:fcst time 0 hrs:from 202001010000\n",
      "126:Geopotential height:gpm (instant):lambert:highestTroposphericFreezing:level 0:fcst time 0 hrs:from 202001010000\n",
      "127:Relative humidity:% (instant):lambert:highestTroposphericFreezing:level 0:fcst time 0 hrs:from 202001010000\n",
      "128:Pressure:Pa (instant):lambert:highestTroposphericFreezing:level 0:fcst time 0 hrs:from 202001010000\n",
      "129:Geopotential height:gpm (instant):lambert:isothermal:level 263 K:fcst time 0 hrs:from 202001010000\n",
      "130:Geopotential height:gpm (instant):lambert:isothermal:level 253 K:fcst time 0 hrs:from 202001010000\n",
      "131:Best (4-layer) lifted index:K (instant):lambert:pressureFromGroundLayer:levels 18000-0 Pa:fcst time 0 hrs:from 202001010000\n",
      "132:Convective available potential energy:J kg**-1 (instant):lambert:pressureFromGroundLayer:levels 18000-0 Pa:fcst time 0 hrs:from 202001010000\n",
      "133:Convective inhibition:J kg**-1 (instant):lambert:pressureFromGroundLayer:levels 18000-0 Pa:fcst time 0 hrs:from 202001010000\n",
      "134:Boundary layer height:m (instant):lambert:surface:level 0:fcst time 0 hrs:from 202001010000\n",
      "135:Geopotential height:gpm (instant):lambert:adiabaticCondensation:level 0:fcst time 0 hrs:from 202001010000\n",
      "136:Convective available potential energy:J kg**-1 (instant):lambert:pressureFromGroundLayer:levels 9000-0 Pa:fcst time 0 hrs:from 202001010000\n",
      "137:Convective inhibition:J kg**-1 (instant):lambert:pressureFromGroundLayer:levels 9000-0 Pa:fcst time 0 hrs:from 202001010000\n",
      "138:Convective available potential energy:J kg**-1 (instant):lambert:pressureFromGroundLayer:levels 25500-0 Pa:fcst time 0 hrs:from 202001010000\n",
      "139:Convective inhibition:J kg**-1 (instant):lambert:pressureFromGroundLayer:levels 25500-0 Pa:fcst time 0 hrs:from 202001010000\n",
      "140:Geopotential height:gpm (instant):lambert:equilibrium:level 0:fcst time 0 hrs:from 202001010000\n",
      "141:Pressure of level from which parcel was lifted:Pa (instant):lambert:pressureFromGroundLayer:levels 25500-0 Pa:fcst time 0 hrs:from 202001010000\n",
      "142:242:242 (instant):lambert:atmosphere:level 0 -:fcst time 0 hrs:from 202001010000\n",
      "143:Land-sea mask:(0 - 1) (instant):lambert:surface:level 0:fcst time 0 hrs:from 202001010000\n",
      "144:Sea ice area fraction:(0 - 1) (instant):lambert:surface:level 0:fcst time 0 hrs:from 202001010000\n",
      "145:Simulated Brightness Temperature for GOES 12, Channel 3:K (instant):lambert:nominalTop:level 0:fcst time 0 hrs:from 202001010000\n",
      "146:Simulated Brightness Temperature for GOES 12, Channel 4:K (instant):lambert:nominalTop:level 0:fcst time 0 hrs:from 202001010000\n",
      "147:Simulated Brightness Temperature for GOES 11, Channel 3:K (instant):lambert:nominalTop:level 0:fcst time 0 hrs:from 202001010000\n",
      "148:Simulated Brightness Temperature for GOES 11, Channel 4:K (instant):lambert:nominalTop:level 0:fcst time 0 hrs:from 202001010000\n"
     ]
    }
   ],
   "source": [
    "i = 0\n",
    "for g in grb:\n",
    "    i += 1\n",
    "    msg = grb.message(i)\n",
    "    print(msg)\n",
    "    # # if msg.rfind('emperature') != -1:\n",
    "    # if msg.rfind('Temperature') != -1:\n",
    "    #     print(msg)\n"
   ],
   "metadata": {
    "collapsed": false
   }
  },
  {
   "cell_type": "code",
   "execution_count": 23,
   "outputs": [],
   "source": [
    "for g in grb:\n",
    "    msg = g.tostring()\n",
    "    print(msg)"
   ],
   "metadata": {
    "collapsed": false
   }
  },
  {
   "cell_type": "code",
   "execution_count": 36,
   "outputs": [
    {
     "name": "stdout",
     "output_type": "stream",
     "text": [
      "66:2 metre temperature:K (instant):lambert:heightAboveGround:level 2 m:fcst time 0 hrs:from 202001010000\n",
      "70:2 metre relative humidity:% (instant):lambert:heightAboveGround:level 2 m:fcst time 0 hrs:from 202001010000\n",
      "108:Downward short-wave radiation flux:W m**-2 (instant):lambert:surface:level 0:fcst time 0 hrs:from 202001010000\n",
      "34:U component of wind:m s**-1 (instant):lambert:isobaricInhPa:level 100000 Pa:fcst time 0 hrs:from 202001010000\n",
      "35:V component of wind:m s**-1 (instant):lambert:isobaricInhPa:level 100000 Pa:fcst time 0 hrs:from 202001010000\n",
      "8:Wind speed (gust):m s**-1 (instant):lambert:surface:level 0:fcst time 0 hrs:from 202001010000\n"
     ]
    }
   ],
   "source": [
    "temp = grb.select(name='2 metre temperature')[0]\n",
    "rh = grb.select(name='2 metre relative humidity')[0]\n",
    "dswrf = grb.select(name='Downward short-wave radiation flux')[0]\n",
    "u_wind = grb.select(name='U component of wind', level=1000)[0]\n",
    "v_wind = grb.select(name='V component of wind', level=1000)[0]\n",
    "gust = grb.select(name='Wind speed (gust)')[0]\n",
    "\n",
    "print(temp)\n",
    "print(rh)\n",
    "print(dswrf)\n",
    "print(u_wind)\n",
    "print(v_wind)\n",
    "print(gust)"
   ],
   "metadata": {
    "collapsed": false
   }
  },
  {
   "cell_type": "code",
   "execution_count": 51,
   "outputs": [
    {
     "name": "stdout",
     "output_type": "stream",
     "text": [
      "[] [] []\n",
      "1799\n",
      "21.138123000000004 52.61565330680793 -134.09547973426314 -60.91719277183784\n"
     ]
    }
   ],
   "source": [
    "tolerance = 0.1\n",
    "data, lats, lons = temp.data(lat1=41.9, lat2=40.9, lon1=(-88.4), lon2=(-88.1))\n",
    "print(data, lats, lons)\n",
    "lats, lons = temp.latlons()\n",
    "data = temp.data()\n",
    "print(len(data[0][0]))\n",
    "print(lats.min(), lats.max(), lons.min(), lons.max())"
   ],
   "metadata": {
    "collapsed": false
   }
  },
  {
   "cell_type": "code",
   "execution_count": 55,
   "outputs": [
    {
     "ename": "ValueError",
     "evalue": "The points in dimension 1 must be strictly ascending or descending",
     "output_type": "error",
     "traceback": [
      "\u001B[0;31m---------------------------------------------------------------------------\u001B[0m",
      "\u001B[0;31mValueError\u001B[0m                                Traceback (most recent call last)",
      "Cell \u001B[0;32mIn[55], line 6\u001B[0m\n\u001B[1;32m      4\u001B[0m np_lon \u001B[38;5;241m=\u001B[39m np\u001B[38;5;241m.\u001B[39msort(np\u001B[38;5;241m.\u001B[39marray(lons))\n\u001B[1;32m      5\u001B[0m np_data \u001B[38;5;241m=\u001B[39m np\u001B[38;5;241m.\u001B[39msort(np\u001B[38;5;241m.\u001B[39marray(data))\n\u001B[0;32m----> 6\u001B[0m itp \u001B[38;5;241m=\u001B[39m \u001B[43mRegularGridInterpolator\u001B[49m\u001B[43m(\u001B[49m\u001B[43m(\u001B[49m\u001B[43mnp_lat\u001B[49m\u001B[43m,\u001B[49m\u001B[43mnp_lon\u001B[49m\u001B[43m)\u001B[49m\u001B[43m,\u001B[49m\u001B[43m \u001B[49m\u001B[43mnp_data\u001B[49m\u001B[43m,\u001B[49m\u001B[43m \u001B[49m\u001B[43mmethod\u001B[49m\u001B[38;5;241;43m=\u001B[39;49m\u001B[38;5;124;43m'\u001B[39;49m\u001B[38;5;124;43mnearest\u001B[39;49m\u001B[38;5;124;43m'\u001B[39;49m\u001B[43m)\u001B[49m\n\u001B[1;32m      7\u001B[0m res \u001B[38;5;241m=\u001B[39m itp((\u001B[38;5;241m41.9\u001B[39m, \u001B[38;5;241m-\u001B[39m\u001B[38;5;241m88.4\u001B[39m))\n",
      "File \u001B[0;32m~/anaconda3/envs/postproc/lib/python3.11/site-packages/scipy/interpolate/_rgi.py:240\u001B[0m, in \u001B[0;36mRegularGridInterpolator.__init__\u001B[0;34m(self, points, values, method, bounds_error, fill_value)\u001B[0m\n\u001B[1;32m    238\u001B[0m \u001B[38;5;28mself\u001B[39m\u001B[38;5;241m.\u001B[39mmethod \u001B[38;5;241m=\u001B[39m method\n\u001B[1;32m    239\u001B[0m \u001B[38;5;28mself\u001B[39m\u001B[38;5;241m.\u001B[39mbounds_error \u001B[38;5;241m=\u001B[39m bounds_error\n\u001B[0;32m--> 240\u001B[0m \u001B[38;5;28mself\u001B[39m\u001B[38;5;241m.\u001B[39mgrid, \u001B[38;5;28mself\u001B[39m\u001B[38;5;241m.\u001B[39m_descending_dimensions \u001B[38;5;241m=\u001B[39m \u001B[43m_check_points\u001B[49m\u001B[43m(\u001B[49m\u001B[43mpoints\u001B[49m\u001B[43m)\u001B[49m\n\u001B[1;32m    241\u001B[0m \u001B[38;5;28mself\u001B[39m\u001B[38;5;241m.\u001B[39mvalues \u001B[38;5;241m=\u001B[39m \u001B[38;5;28mself\u001B[39m\u001B[38;5;241m.\u001B[39m_check_values(values)\n\u001B[1;32m    242\u001B[0m \u001B[38;5;28mself\u001B[39m\u001B[38;5;241m.\u001B[39m_check_dimensionality(\u001B[38;5;28mself\u001B[39m\u001B[38;5;241m.\u001B[39mgrid, \u001B[38;5;28mself\u001B[39m\u001B[38;5;241m.\u001B[39mvalues)\n",
      "File \u001B[0;32m~/anaconda3/envs/postproc/lib/python3.11/site-packages/scipy/interpolate/_rgi.py:27\u001B[0m, in \u001B[0;36m_check_points\u001B[0;34m(points)\u001B[0m\n\u001B[1;32m     25\u001B[0m         p \u001B[38;5;241m=\u001B[39m np\u001B[38;5;241m.\u001B[39mflip(p)\n\u001B[1;32m     26\u001B[0m     \u001B[38;5;28;01melse\u001B[39;00m:\n\u001B[0;32m---> 27\u001B[0m         \u001B[38;5;28;01mraise\u001B[39;00m \u001B[38;5;167;01mValueError\u001B[39;00m(\n\u001B[1;32m     28\u001B[0m             \u001B[38;5;124m\"\u001B[39m\u001B[38;5;124mThe points in dimension \u001B[39m\u001B[38;5;132;01m%d\u001B[39;00m\u001B[38;5;124m must be strictly \u001B[39m\u001B[38;5;124m\"\u001B[39m\n\u001B[1;32m     29\u001B[0m             \u001B[38;5;124m\"\u001B[39m\u001B[38;5;124mascending or descending\u001B[39m\u001B[38;5;124m\"\u001B[39m \u001B[38;5;241m%\u001B[39m i)\n\u001B[1;32m     30\u001B[0m \u001B[38;5;66;03m# see https://github.com/scipy/scipy/issues/17716\u001B[39;00m\n\u001B[1;32m     31\u001B[0m p \u001B[38;5;241m=\u001B[39m np\u001B[38;5;241m.\u001B[39mascontiguousarray(p)\n",
      "\u001B[0;31mValueError\u001B[0m: The points in dimension 1 must be strictly ascending or descending"
     ]
    }
   ],
   "source": [
    "from scipy.interpolate import RegularGridInterpolator\n",
    "import numpy as np\n",
    "np_lat = np.sort(np.array(lats))\n",
    "np_lon = np.sort(np.array(lons))\n",
    "np_data = np.sort(np.array(data))\n",
    "itp = RegularGridInterpolator((np_lat,np_lon), np_data, method='nearest')\n",
    "res = itp((41.9, -88.4))"
   ],
   "metadata": {
    "collapsed": false
   }
  },
  {
   "cell_type": "code",
   "execution_count": null,
   "outputs": [],
   "source": [],
   "metadata": {
    "collapsed": false
   }
  }
 ],
 "metadata": {
  "kernelspec": {
   "display_name": "Python 3",
   "language": "python",
   "name": "python3"
  },
  "language_info": {
   "codemirror_mode": {
    "name": "ipython",
    "version": 2
   },
   "file_extension": ".py",
   "mimetype": "text/x-python",
   "name": "python",
   "nbconvert_exporter": "python",
   "pygments_lexer": "ipython2",
   "version": "2.7.6"
  }
 },
 "nbformat": 4,
 "nbformat_minor": 0
}
