{
 "cells": [
  {
   "attachments": {},
   "cell_type": "markdown",
   "metadata": {},
   "source": [
    "# WRF-HRRR GRIB2 Tutorial\n",
    "\n",
    "### This tutorial includes a brief introduction to WRF-HRRR data, as well as how to download and extract the necessary information for a given geographical point in the continential United States.\n",
    "<div style=\"display:flex; justify-content:center;\">\n",
    "    <div style=\"flex:1; margin-right:50px; margin-left:300px\">\n",
    "        <img src=\"tut_figs/grib_cube.png\" alt=\"Grib Cube Structure\" style=\"width:60%\">\n",
    "    </div>\n",
    "    <div style=\"flex:1; margin-left:50px; margin-right:100px\">\n",
    "        <img src=\"tut_figs/pic_grib.png\" alt=\"Grib Parameter Structure\" style=\"width:42%\">\n",
    "    </div>  \n",
    "</div>\n",
    "\n",
    "\n",
    "This tutorial includes:\n",
    "\n",
    " - [File Overview](#overview) \n",
    " - [Downloading HRRR GRIB2](#download)\n",
    " - [Extracting data from GRIB2](#extraction)\n",
    " - [Additional Resources](#additional_resources)\n",
    "\n",
    "\n",
    "### File Overview <a class=\"anchor\" id=\"overview\"></a>\n",
    "---\n",
    "The Weather Research and Forecasting (WRF) Model is a numerical weather prediction system developed by a collaboration of research organizations for simulating and forecasting weather conditions. It is an open-source model, allowing for users to modify the model to fit their applications. The High Resolution Rapid Refresh (HRRR) model is a derivative of the WRF model, providing a higher resolution of predictions generated every hour. The numerical weather observations of the HRRR model span across the entire continental United States, having the ability to not only forecast the weather, but also capturing rapidly evolving weather phenonma and severe weather predictions. \n",
    "\n",
    "The numerical weather measurements and predictions from the HRRR model are stored in GRIdded Binary version 2 (GRIB2) file format, a highly processed and compressed file format popular for storing weather measurements. The data in this file structure is often represented as a 3D cube, containing points on an XYZ coordinate plane. For each GRIB2 file, the file X and Y coordinates correspond to their respective lattitudes and longitudes, while  \n",
    "\n",
    "\n",
    "\n",
    "### Downloading HRRR GRIB2 <a class=\"anchor\" id=\"download\"></a>\n",
    "---\n",
    "NOTE: The command line examples apply to debian-based linux distributions. \n",
    "1. Prepare the system\n",
    "    - Begin by installing the necessary packages into your environment\n",
    "    \n",
    "        ```\n",
    "        sudo apt-get install pip;\n",
    "        pip install ecmwflibs;\n",
    "        pip install herbie-data\n",
    "        ```\n",
    "2. Download the files\n",
    "    - First, import the necessary libraries \n",
    "    \n"
   ]
  },
  {
   "cell_type": "code",
   "execution_count": 1,
   "metadata": {},
   "outputs": [],
   "source": [
    "from herbie import Herbie"
   ]
  },
  {
   "attachments": {},
   "cell_type": "markdown",
   "metadata": {},
   "source": [
    "- Set the desired date (yyyymmdd HH:MM) and directory to save"
   ]
  },
  {
   "cell_type": "code",
   "execution_count": 2,
   "metadata": {},
   "outputs": [],
   "source": [
    "date = \"20210101 11:00\"\n",
    "save_dir = \"/directory/to/download/into\""
   ]
  },
  {
   "attachments": {},
   "cell_type": "markdown",
   "metadata": {},
   "source": [
    "- set the desired number of hours to predict in the future (0 for real-time)\n",
    "- NOTE: precipitation and all other accumulation metric values are 0 for real-time. "
   ]
  },
  {
   "cell_type": "code",
   "execution_count": 3,
   "metadata": {},
   "outputs": [],
   "source": [
    "pred_hours = 1\n",
    "precip_pred_hours = 1"
   ]
  },
  {
   "attachments": {},
   "cell_type": "markdown",
   "metadata": {},
   "source": [
    "- load the values into Herbie objects"
   ]
  },
  {
   "cell_type": "code",
   "execution_count": 4,
   "metadata": {},
   "outputs": [
    {
     "name": "stdout",
     "output_type": "stream",
     "text": [
      "✅ Found ┊ model=hrrr ┊ \u001b[3mproduct=sfc\u001b[0m ┊ \u001b[38;2;41;130;13m2021-Jan-01 11:00 UTC\u001b[92m F00\u001b[0m ┊ \u001b[38;2;255;153;0m\u001b[3mGRIB2 @ pando\u001b[0m ┊ \u001b[38;2;255;153;0m\u001b[3mIDX @ pando\u001b[0m\n",
      "✅ Found ┊ model=hrrr ┊ \u001b[3mproduct=sfc\u001b[0m ┊ \u001b[38;2;41;130;13m2021-Jan-01 11:00 UTC\u001b[92m F00\u001b[0m ┊ \u001b[38;2;255;153;0m\u001b[3mGRIB2 @ pando\u001b[0m ┊ \u001b[38;2;255;153;0m\u001b[3mIDX @ pando\u001b[0m\n"
     ]
    }
   ],
   "source": [
    "herb_obj = Herbie(date, model=\"hrrr\",\n",
    "                  product=\"sfc\", save_dir=save_dir,\n",
    "                  verbose=True, fxx=pred_hours,\n",
    "                  priority= ['pando', 'pando2', 'aws', 'nomads',\n",
    "                                           'google', 'azure'],# ['pando', 'pando2', 'aws', 'nomads'],\n",
    "                  overwrite=True)\n",
    "\n",
    "precip_herb_obj = Herbie(date, model=\"hrrr\",\n",
    "                  product=\"sfc\", save_dir=save_dir,\n",
    "                  verbose=True, fxx=precip_pred_hours,\n",
    "                  priority= ['pando', 'pando2', 'aws', 'nomads',\n",
    "                                           'google', 'azure'],# ['pando', 'pando2', 'aws', 'nomads'],\n",
    "                  overwrite=True)"
   ]
  },
  {
   "attachments": {},
   "cell_type": "markdown",
   "metadata": {},
   "source": [
    "- Now the objects can be segmented into parameters of choice using regex strings of the shortnames for the parameters and their levels. A list of GRIB2 shortnames can be found [here](https://codes.ecmwf.int/grib/param-db/?filter=grib2) and an interactive tutorial of how do use regex strings can be found [here](https://regexone.com/)\n",
    "    - When segmenting the files into parameters of choice, one can either keep the data in memory or download the file. The entire file will all parameters can be downloaded with the command:"
   ]
  },
  {
   "cell_type": "code",
   "execution_count": 5,
   "metadata": {},
   "outputs": [
    {
     "name": "stdout",
     "output_type": "stream",
     "text": [
      "👨🏻‍🏭 Created directory: [/home/kaleb/Desktop/hrrr/20210101]\n",
      "🚛💨  Download Progress: 100.00% of 138.3 MB\r"
     ]
    },
    {
     "data": {
      "text/plain": [
       "PosixPath('/home/kaleb/Desktop/hrrr/20210101/hrrr.t11z.wrfsfcf00.grib2')"
      ]
     },
     "execution_count": 5,
     "metadata": {},
     "output_type": "execute_result"
    }
   ],
   "source": [
    "herb_obj.download()\n",
    "precip_herb_obj.download()"
   ]
  },
  {
   "attachments": {},
   "cell_type": "markdown",
   "metadata": {},
   "source": [
    "\n",
    "### Extracting From GRIB2 <a class=\"anchor\" id=\"extraction\"></a>\n",
    "---\n",
    "\n",
    "There are two python libraries used for downloading and extracting data from GRIB2 files. They are Pygrib and Herbie. Herbie is used for download and extracting, while Pygrib is used for extracting. If wishing to keep the process in memory, Herbie is best to use. If wishing to extract from files download onto hard drive memory, Pygrib is best to use. Both methods are shown in this tutorial.. \n",
    "\n",
    "It should be noted that the regex strings can be used for both downloading and loading the data into an array, however for the purposes of this tutorial, the data will be loaded into an array. \n",
    "\n",
    "The 6 HRRR parameters used in this dataset are 2 meter temperature, 2 meter relative humidity, u component of wind (level 1000kPa), v component of wind (level 1000kPa), wind gust, and downward shortwave radiation flux. The steps to extracting the data for these parameters are as follows: \n",
    "\n",
    "#### Using Herbie\n",
    "\n",
    "If not wanting to download the files, one can load a GRIB2 file into an Herbie object and index the needed parameters at their specific geographical locations. The steps for doing this are as follows: \n",
    "\n",
    "- Use the above code to load a file into an Herbie object. Skip the step to download.\n",
    "\n",
    "- Declare the geographic coordinates of interest with a longitude, latitude tuple, with longitude in the (-180, 180) range. "
   ]
  },
  {
   "cell_type": "code",
   "execution_count": 6,
   "metadata": {},
   "outputs": [],
   "source": [
    "lsu = (-91.1783, 30.414)\n",
    "ull = (-92.014, 30.213)\n",
    "coordinates = [lsu, ull]\n",
    "coord_names = [\"lsu\", \"ull\"]"
   ]
  },
  {
   "attachments": {},
   "cell_type": "markdown",
   "metadata": {},
   "source": [
    "- Use regex strings to load the herbie object into a segmented xarray"
   ]
  },
  {
   "cell_type": "code",
   "execution_count": 7,
   "metadata": {},
   "outputs": [
    {
     "name": "stderr",
     "output_type": "stream",
     "text": [
      "/home/kaleb/miniconda3/envs/postproc/lib/python3.9/site-packages/herbie/archive.py:692: UserWarning: This pattern is interpreted as a regular expression, and has match groups. To actually get the groups, use str.extract.\n",
      "  logic = df.search_this.str.contains(searchString)\n"
     ]
    }
   ],
   "source": [
    "t2m_rh = herb_obj.xarray(\":(?:TMP|RH):2 m\")\n",
    "u_v = herb_obj.xarray(\":(U|V)GRD:1000 mb:\")\n",
    "dswrf = herb_obj.xarray(\":DSWRF:surface:anl\")\n",
    "gust = herb_obj.xarray(\":GUST:\")\n",
    "precip = precip_herb_obj.xarray(\":APCP:surface:\")"
   ]
  },
  {
   "attachments": {},
   "cell_type": "markdown",
   "metadata": {},
   "source": [
    "- Use the xarrays and coordinates to generate an array of the geographical points which contain the closest values"
   ]
  },
  {
   "cell_type": "code",
   "execution_count": 8,
   "metadata": {},
   "outputs": [
    {
     "name": "stderr",
     "output_type": "stream",
     "text": [
      "/home/kaleb/miniconda3/envs/postproc/lib/python3.9/site-packages/metpy/xarray.py:382: UserWarning: More than one time coordinate present for variable \"gribfile_projection\".\n",
      "  warnings.warn('More than one ' + axis + ' coordinate present for variable'\n",
      "/home/kaleb/miniconda3/envs/postproc/lib/python3.9/site-packages/metpy/xarray.py:382: UserWarning: More than one time coordinate present for variable \"t2m\".\n",
      "  warnings.warn('More than one ' + axis + ' coordinate present for variable'\n",
      "/home/kaleb/miniconda3/envs/postproc/lib/python3.9/site-packages/metpy/xarray.py:382: UserWarning: More than one time coordinate present for variable \"r2\".\n",
      "  warnings.warn('More than one ' + axis + ' coordinate present for variable'\n",
      "/home/kaleb/miniconda3/envs/postproc/lib/python3.9/site-packages/metpy/xarray.py:382: UserWarning: More than one time coordinate present for variable \"gribfile_projection\".\n",
      "  warnings.warn('More than one ' + axis + ' coordinate present for variable'\n",
      "/home/kaleb/miniconda3/envs/postproc/lib/python3.9/site-packages/metpy/xarray.py:382: UserWarning: More than one time coordinate present for variable \"gribfile_projection\".\n",
      "  warnings.warn('More than one ' + axis + ' coordinate present for variable'\n",
      "/home/kaleb/miniconda3/envs/postproc/lib/python3.9/site-packages/metpy/xarray.py:382: UserWarning: More than one time coordinate present for variable \"u\".\n",
      "  warnings.warn('More than one ' + axis + ' coordinate present for variable'\n",
      "/home/kaleb/miniconda3/envs/postproc/lib/python3.9/site-packages/metpy/xarray.py:382: UserWarning: More than one time coordinate present for variable \"v\".\n",
      "  warnings.warn('More than one ' + axis + ' coordinate present for variable'\n",
      "/home/kaleb/miniconda3/envs/postproc/lib/python3.9/site-packages/metpy/xarray.py:382: UserWarning: More than one time coordinate present for variable \"gribfile_projection\".\n",
      "  warnings.warn('More than one ' + axis + ' coordinate present for variable'\n",
      "/home/kaleb/miniconda3/envs/postproc/lib/python3.9/site-packages/metpy/xarray.py:382: UserWarning: More than one time coordinate present for variable \"gribfile_projection\".\n",
      "  warnings.warn('More than one ' + axis + ' coordinate present for variable'\n",
      "/home/kaleb/miniconda3/envs/postproc/lib/python3.9/site-packages/metpy/xarray.py:382: UserWarning: More than one time coordinate present for variable \"dswrf\".\n",
      "  warnings.warn('More than one ' + axis + ' coordinate present for variable'\n",
      "/home/kaleb/miniconda3/envs/postproc/lib/python3.9/site-packages/metpy/xarray.py:382: UserWarning: More than one time coordinate present for variable \"gribfile_projection\".\n",
      "  warnings.warn('More than one ' + axis + ' coordinate present for variable'\n",
      "/home/kaleb/miniconda3/envs/postproc/lib/python3.9/site-packages/metpy/xarray.py:382: UserWarning: More than one time coordinate present for variable \"gribfile_projection\".\n",
      "  warnings.warn('More than one ' + axis + ' coordinate present for variable'\n",
      "/home/kaleb/miniconda3/envs/postproc/lib/python3.9/site-packages/metpy/xarray.py:382: UserWarning: More than one time coordinate present for variable \"gust\".\n",
      "  warnings.warn('More than one ' + axis + ' coordinate present for variable'\n",
      "/home/kaleb/miniconda3/envs/postproc/lib/python3.9/site-packages/metpy/xarray.py:382: UserWarning: More than one time coordinate present for variable \"gribfile_projection\".\n",
      "  warnings.warn('More than one ' + axis + ' coordinate present for variable'\n",
      "/home/kaleb/miniconda3/envs/postproc/lib/python3.9/site-packages/metpy/xarray.py:382: UserWarning: More than one time coordinate present for variable \"gribfile_projection\".\n",
      "  warnings.warn('More than one ' + axis + ' coordinate present for variable'\n",
      "/home/kaleb/miniconda3/envs/postproc/lib/python3.9/site-packages/metpy/xarray.py:382: UserWarning: More than one time coordinate present for variable \"tp\".\n",
      "  warnings.warn('More than one ' + axis + ' coordinate present for variable'\n",
      "/home/kaleb/miniconda3/envs/postproc/lib/python3.9/site-packages/metpy/xarray.py:382: UserWarning: More than one time coordinate present for variable \"gribfile_projection\".\n",
      "  warnings.warn('More than one ' + axis + ' coordinate present for variable'\n"
     ]
    }
   ],
   "source": [
    "t2m_rh_arr = t2m_rh.herbie.nearest_points(points=coordinates, names=coord_names)\n",
    "u_v_arr = u_v.herbie.nearest_points(points=coordinates, names=coord_names)\n",
    "dswrf_arr = dswrf.herbie.nearest_points(points=coordinates, names=coord_names)\n",
    "gust_arr = gust.herbie.nearest_points(points=coordinates, names=coord_names)\n",
    "precip_arr = precip.herbie.nearest_points(points=coordinates, names=coord_names)"
   ]
  },
  {
   "attachments": {},
   "cell_type": "markdown",
   "metadata": {},
   "source": [
    "- Index the parameters from these arrays in order to get them into a usable format"
   ]
  },
  {
   "cell_type": "code",
   "execution_count": 21,
   "metadata": {},
   "outputs": [
    {
     "name": "stdout",
     "output_type": "stream",
     "text": [
      "Extracted Values for points: (-91.1783, 30.414) and (-92.014, 30.213)\n",
      "-----------------------------------------------------------------------\n",
      "2 Meter Temperature[K]:  [285.61145 283.79895] \n",
      "2 Meter Relative Humidity[%]:  [83.7 73.5] \n",
      "U Component of Wind[m s**-1]:  [4.2505255 5.6880255] \n",
      "V Component of Wind[m s**-1]:  [6.7566366 8.944137 ] \n",
      "Downward Short Wave Radiation Flux[W m**-2]:  [0. 0.] \n",
      "Wind Gust[m s**-1]:  [ 7.719972 10.094972] \n",
      "Precipitation [kg m**-2]:  [0. 0.]\n"
     ]
    }
   ],
   "source": [
    "t2m_values = t2m_rh_arr.t2m.values\n",
    "rh_values = t2m_rh_arr.r2.values\n",
    "u_values = u_v_arr.u.values\n",
    "v_values = u_v_arr.v.values\n",
    "dswrf_values = dswrf_arr.dswrf.values\n",
    "gust_values = gust_arr.gust.values\n",
    "precip_values = precip_arr.tp.values\n",
    "\n",
    "print(\"Extracted Values for points: (-91.1783, 30.414) and (-92.014, 30.213)\")\n",
    "print(\"-----------------------------------------------------------------------\")\n",
    "print(\"2 Meter Temperature[K]: \", t2m_values, \"\\n2 Meter Relative Humidity[%]: \", rh_values,\\\n",
    "      \"\\nU Component of Wind[m s**-1]: \", u_values, \"\\nV Component of Wind[m s**-1]: \", v_values,\\\n",
    "      \"\\nDownward Short Wave Radiation Flux[W m**-2]: \", dswrf_values, \"\\nWind Gust[m s**-1]: \", gust_values,\\\n",
    "      \"\\nPrecipitation [kg m**-2]: \", precip_values)"
   ]
  },
  {
   "attachments": {},
   "cell_type": "markdown",
   "metadata": {},
   "source": [
    "- Note: to find the short string that extracts the values, print out the xarray object and look under the \"Data Variables\" section. For example, when printing out the precipitation array:  "
   ]
  },
  {
   "cell_type": "code",
   "execution_count": 23,
   "metadata": {},
   "outputs": [
    {
     "name": "stdout",
     "output_type": "stream",
     "text": [
      "<xarray.Dataset>\n",
      "Dimensions:              (point: 2)\n",
      "Coordinates:\n",
      "    time                 datetime64[ns] 2021-01-01T11:00:00\n",
      "    step                 timedelta64[ns] 00:00:00\n",
      "    surface              float64 0.0\n",
      "    latitude             (point) float64 30.4 30.21\n",
      "    longitude            (point) float64 268.8 268.0\n",
      "    valid_time           datetime64[ns] 2021-01-01T11:00:00\n",
      "    metpy_crs            object Projection: lambert_conformal_conic\n",
      "    y                    (point) float64 -8.823e+05 -9.093e+05\n",
      "    x                    (point) float64 6.115e+05 5.335e+05\n",
      "  * point                (point) <U3 'lsu' 'ull'\n",
      "Data variables:\n",
      "    tp                   (point) float32 0.0 0.0\n",
      "    gribfile_projection  (point) object None None\n",
      "Attributes:\n",
      "    GRIB_edition:            2\n",
      "    GRIB_centre:             kwbc\n",
      "    GRIB_centreDescription:  US National Weather Service - NCEP\n",
      "    GRIB_subCentre:          0\n",
      "    Conventions:             CF-1.7\n",
      "    institution:             US National Weather Service - NCEP\n",
      "    model:                   hrrr\n",
      "    product:                 sfc\n",
      "    description:             High-Resolution Rapid Refresh - CONUS\n",
      "    remote_grib:             /home/kaleb/Desktop/hrrr/20210101/hrrr.t11z.wrfs...\n",
      "    local_grib:              /home/kaleb/Desktop/hrrr/20210101/subset_f1ef2f9...\n",
      "    searchString:            :APCP:surface:\n"
     ]
    }
   ],
   "source": [
    "print(precip_arr)"
   ]
  },
  {
   "attachments": {},
   "cell_type": "markdown",
   "metadata": {},
   "source": [
    "- The \"Data Variables\" section lets us know that to get the values from the array, we will need to use the name \"tp\"\n",
    "\n",
    "\n",
    "It should be noted that the `nearest_points` method is fragile. If too many points of latitude and longitude are passed, the time complexity of the method will skyrocket and in the worst case the code will break. \n",
    "\n",
    "\n",
    "### Using Pygrib\n",
    "\n",
    "If wishing to extract data from downloaded GRIB2 files, Pygrib is the better option. The methodology for extracting data using Pygrib is as follows:\n",
    "\n",
    "- First import the necessary libraries and point to the respective GRIB file\n"
   ]
  },
  {
   "cell_type": "code",
   "execution_count": 26,
   "metadata": {},
   "outputs": [],
   "source": [
    "import pygrib\n",
    "grib_file_dir = \"/home/kaleb/Desktop/hrrr/20210101/hrrr.t11z.wrfsfcf00.grib2\"\n",
    "precip_file_dir = \"/home/kaleb/Desktop/hrrr/20210101/hrrr.t11z.wrfsfcf00.grib2\"\n"
   ]
  },
  {
   "attachments": {},
   "cell_type": "markdown",
   "metadata": {},
   "source": [
    "- Open the file into a Pygrib Object"
   ]
  },
  {
   "cell_type": "code",
   "execution_count": 27,
   "metadata": {},
   "outputs": [],
   "source": [
    "grb = pygrib.open(grib_file_dir)\n",
    "precip_grib = pygrib.open(precip_file_dir)"
   ]
  },
  {
   "attachments": {},
   "cell_type": "markdown",
   "metadata": {},
   "source": [
    "- Declare your points of interest"
   ]
  },
  {
   "cell_type": "code",
   "execution_count": 28,
   "metadata": {},
   "outputs": [],
   "source": [
    "lsu = (-91.1783, 30.414)\n",
    "ull = (-92.014, 30.213)\n",
    "coordinates = [lsu, ull]\n",
    "coord_names = [\"lsu\", \"ull\"]"
   ]
  },
  {
   "attachments": {},
   "cell_type": "markdown",
   "metadata": {},
   "source": [
    "- Read the lats and lons from the GRIB2 file and find the nearest indexes"
   ]
  },
  {
   "cell_type": "code",
   "execution_count": 29,
   "metadata": {},
   "outputs": [],
   "source": [
    "nearest_indexes = []\n",
    "\n",
    "grib_lats, grib_lons = grb[1].latlons()\n",
    "\n",
    "for lon, lat in coordinates:\n",
    "    nearest_idx = (((grib_lats - lat) ** 2 + (grib_lons - lon) ** 2) ** 0.5).argmin()\n",
    "    nearest_indexes.append(nearest_idx)\n",
    " "
   ]
  },
  {
   "attachments": {},
   "cell_type": "markdown",
   "metadata": {},
   "source": [
    "- Select the parameters from the object and load the values into arrays"
   ]
  },
  {
   "cell_type": "code",
   "execution_count": 30,
   "metadata": {},
   "outputs": [],
   "source": [
    "temp = grb.select(name='2 metre temperature')[0]\n",
    "rh = grb.select(name='2 metre relative humidity')[0]\n",
    "dswrf = grb.select(name='Downward short-wave radiation flux')[0]\n",
    "dswrf_data = dswrf.values\n",
    "u_wind = grb.select(name='U component of wind', level=1000)[0]\n",
    "v_wind = grb.select(name='V component of wind', level=1000)[0]\n",
    "gust = grb.select(name='Wind speed (gust)')[0]\n",
    "precip_data = precip_grib.select(name=\"Total Precipitation\")[0]\n",
    "\n",
    "precip_data = precip_data.values\n",
    "gust_data = gust.values\n",
    "u_data = u_wind.values\n",
    "v_data = v_wind.values\n",
    "rh_data = rh.values\n",
    "temp_data = temp.values"
   ]
  },
  {
   "attachments": {},
   "cell_type": "markdown",
   "metadata": {},
   "source": [
    "- Now the grib object can be closed. Index the points of interest"
   ]
  },
  {
   "cell_type": "code",
   "execution_count": 32,
   "metadata": {},
   "outputs": [
    {
     "name": "stdout",
     "output_type": "stream",
     "text": [
      "[0.0, 7.719972126185894, 4.25052547454834, 6.756636619567871, 83.7, 285.6114501953125]\n",
      "[0.0, 10.094972126185894, 5.68802547454834, 8.944136619567871, 73.5, 283.7989501953125]\n"
     ]
    }
   ],
   "source": [
    "grb.close()\n",
    "precip_grib.close()\n",
    "\n",
    "lsu_vals = [precip_data.flatten()[nearest_indexes[0]], gust_data.flatten()[nearest_indexes[0]], u_data.flatten()[nearest_indexes[0]], \\\n",
    "            v_data.flatten()[nearest_indexes[0]], rh_data.flatten()[nearest_indexes[0]], temp_data.flatten()[nearest_indexes[0]]]\n",
    "ull_vals = [precip_data.flatten()[nearest_indexes[1]], gust_data.flatten()[nearest_indexes[1]], u_data.flatten()[nearest_indexes[1]], \\\n",
    "            v_data.flatten()[nearest_indexes[1]], rh_data.flatten()[nearest_indexes[1]], temp_data.flatten()[nearest_indexes[1]]]\n",
    "\n",
    "print(lsu_vals)\n",
    "print(ull_vals)\n"
   ]
  },
  {
   "cell_type": "markdown",
   "metadata": {},
   "source": [
    "\n",
    "\n",
    "### Additional Resources <a class=\"anchor\" id=\"additional_resources\"></a>\n",
    "--- \n",
    "\n",
    "ECMWF homepage\n",
    "Pygrib homepage\n",
    "Herbie Documentation\n",
    "NOAA homepage\n",
    "\n",
    "\n"
   ]
  }
 ],
 "metadata": {
  "kernelspec": {
   "display_name": "postproc",
   "language": "python",
   "name": "python3"
  },
  "language_info": {
   "codemirror_mode": {
    "name": "ipython",
    "version": 3
   },
   "file_extension": ".py",
   "mimetype": "text/x-python",
   "name": "python",
   "nbconvert_exporter": "python",
   "pygments_lexer": "ipython3",
   "version": "3.9.16"
  },
  "orig_nbformat": 4
 },
 "nbformat": 4,
 "nbformat_minor": 2
}
